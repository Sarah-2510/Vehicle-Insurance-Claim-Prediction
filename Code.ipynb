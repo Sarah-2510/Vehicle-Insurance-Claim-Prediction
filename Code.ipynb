{
 "cells": [
  {
   "cell_type": "markdown",
   "id": "f2af1539",
   "metadata": {},
   "source": [
    "### Loading the libraries"
   ]
  },
  {
   "cell_type": "code",
   "execution_count": 495,
   "id": "07f4dee4",
   "metadata": {},
   "outputs": [],
   "source": [
    "import pandas as pd # data analytical library\n",
    "import matplotlib.pyplot as plt #visualization\n",
    "import seaborn as sns #statistical visualization"
   ]
  },
  {
   "cell_type": "markdown",
   "id": "174f33c0",
   "metadata": {},
   "source": [
    "### Reading the test and train dataset"
   ]
  },
  {
   "cell_type": "code",
   "execution_count": 496,
   "id": "e94684d1",
   "metadata": {},
   "outputs": [],
   "source": [
    "df=pd.read_csv(\"train_SJC.csv\")  #train dataset\n",
    "df1=pd.read_csv(\"Test_SJC.csv\") #test dataset"
   ]
  },
  {
   "cell_type": "code",
   "execution_count": 497,
   "id": "66721a4b",
   "metadata": {},
   "outputs": [
    {
     "data": {
      "text/html": [
       "<div>\n",
       "<style scoped>\n",
       "    .dataframe tbody tr th:only-of-type {\n",
       "        vertical-align: middle;\n",
       "    }\n",
       "\n",
       "    .dataframe tbody tr th {\n",
       "        vertical-align: top;\n",
       "    }\n",
       "\n",
       "    .dataframe thead th {\n",
       "        text-align: right;\n",
       "    }\n",
       "</style>\n",
       "<table border=\"1\" class=\"dataframe\">\n",
       "  <thead>\n",
       "    <tr style=\"text-align: right;\">\n",
       "      <th></th>\n",
       "      <th>Unnamed: 0</th>\n",
       "      <th>Unnamed: 1</th>\n",
       "      <th>DateReported</th>\n",
       "      <th>Unnamed: 3</th>\n",
       "      <th>Unnamed: 4</th>\n",
       "      <th>Unnamed: 5</th>\n",
       "      <th>Unnamed: 6</th>\n",
       "      <th>DependentsOther</th>\n",
       "      <th>Unnamed: 8</th>\n",
       "      <th>Unnamed: 9</th>\n",
       "      <th>Unnamed: 10</th>\n",
       "      <th>DaysWorkedPerWeek</th>\n",
       "      <th>Unnamed: 12</th>\n",
       "      <th>Unnamed: 13</th>\n",
       "      <th>Unnamed: 14</th>\n",
       "    </tr>\n",
       "  </thead>\n",
       "  <tbody>\n",
       "    <tr>\n",
       "      <th>0</th>\n",
       "      <td>ClaimNumber</td>\n",
       "      <td>DateTimeOfAccident</td>\n",
       "      <td>NaN</td>\n",
       "      <td>Age</td>\n",
       "      <td>Gender</td>\n",
       "      <td>MaritalStatus</td>\n",
       "      <td>DependentChildren</td>\n",
       "      <td>NaN</td>\n",
       "      <td>WeeklyWages</td>\n",
       "      <td>PartTimeFullTime</td>\n",
       "      <td>HoursWorkedPerWeek</td>\n",
       "      <td>NaN</td>\n",
       "      <td>ClaimDescription</td>\n",
       "      <td>InitialIncurredCalimsCost</td>\n",
       "      <td>UltimateIncurredClaimCost</td>\n",
       "    </tr>\n",
       "    <tr>\n",
       "      <th>1</th>\n",
       "      <td>WC8205482</td>\n",
       "      <td>2002-04-09T07:00:00Z</td>\n",
       "      <td>2002-07-05T00:00:00Z</td>\n",
       "      <td>48</td>\n",
       "      <td>M</td>\n",
       "      <td>M</td>\n",
       "      <td>0</td>\n",
       "      <td>0.0</td>\n",
       "      <td>500</td>\n",
       "      <td>F</td>\n",
       "      <td>38</td>\n",
       "      <td>5.0</td>\n",
       "      <td>LIFTING TYRE INJURY TO RIGHT ARM AND WRIST INJURY</td>\n",
       "      <td>1500</td>\n",
       "      <td>4748.203388</td>\n",
       "    </tr>\n",
       "    <tr>\n",
       "      <th>2</th>\n",
       "      <td>WC6922469</td>\n",
       "      <td>1999-01-07T11:00:00Z</td>\n",
       "      <td>1999-01-20T00:00:00Z</td>\n",
       "      <td>43</td>\n",
       "      <td>F</td>\n",
       "      <td>M</td>\n",
       "      <td>0</td>\n",
       "      <td>0.0</td>\n",
       "      <td>509.34</td>\n",
       "      <td>F</td>\n",
       "      <td>37.5</td>\n",
       "      <td>5.0</td>\n",
       "      <td>STEPPED AROUND CRATES AND TRUCK TRAY FRACTURE ...</td>\n",
       "      <td>5500</td>\n",
       "      <td>6326.285819</td>\n",
       "    </tr>\n",
       "    <tr>\n",
       "      <th>3</th>\n",
       "      <td>WC5442654</td>\n",
       "      <td>1996-03-25T00:00:00Z</td>\n",
       "      <td>1996-04-14T00:00:00Z</td>\n",
       "      <td>30</td>\n",
       "      <td>M</td>\n",
       "      <td>U</td>\n",
       "      <td>0</td>\n",
       "      <td>0.0</td>\n",
       "      <td>709.1</td>\n",
       "      <td>F</td>\n",
       "      <td>38</td>\n",
       "      <td>5.0</td>\n",
       "      <td>CUT ON SHARP EDGE CUT LEFT THUMB</td>\n",
       "      <td>1700</td>\n",
       "      <td>2293.949087</td>\n",
       "    </tr>\n",
       "    <tr>\n",
       "      <th>4</th>\n",
       "      <td>WC9796897</td>\n",
       "      <td>2005-06-22T13:00:00Z</td>\n",
       "      <td>2005-07-22T00:00:00Z</td>\n",
       "      <td>41</td>\n",
       "      <td>M</td>\n",
       "      <td>S</td>\n",
       "      <td>0</td>\n",
       "      <td>0.0</td>\n",
       "      <td>555.46</td>\n",
       "      <td>F</td>\n",
       "      <td>38</td>\n",
       "      <td>5.0</td>\n",
       "      <td>DIGGING LOWER BACK LOWER BACK STRAIN</td>\n",
       "      <td>15000</td>\n",
       "      <td>17786.48717</td>\n",
       "    </tr>\n",
       "  </tbody>\n",
       "</table>\n",
       "</div>"
      ],
      "text/plain": [
       "    Unnamed: 0            Unnamed: 1          DateReported Unnamed: 3  \\\n",
       "0  ClaimNumber    DateTimeOfAccident                   NaN        Age   \n",
       "1    WC8205482  2002-04-09T07:00:00Z  2002-07-05T00:00:00Z         48   \n",
       "2    WC6922469  1999-01-07T11:00:00Z  1999-01-20T00:00:00Z         43   \n",
       "3    WC5442654  1996-03-25T00:00:00Z  1996-04-14T00:00:00Z         30   \n",
       "4    WC9796897  2005-06-22T13:00:00Z  2005-07-22T00:00:00Z         41   \n",
       "\n",
       "  Unnamed: 4     Unnamed: 5         Unnamed: 6  DependentsOther   Unnamed: 8  \\\n",
       "0     Gender  MaritalStatus  DependentChildren              NaN  WeeklyWages   \n",
       "1          M              M                  0              0.0          500   \n",
       "2          F              M                  0              0.0       509.34   \n",
       "3          M              U                  0              0.0        709.1   \n",
       "4          M              S                  0              0.0       555.46   \n",
       "\n",
       "         Unnamed: 9         Unnamed: 10  DaysWorkedPerWeek  \\\n",
       "0  PartTimeFullTime  HoursWorkedPerWeek                NaN   \n",
       "1                 F                  38                5.0   \n",
       "2                 F                37.5                5.0   \n",
       "3                 F                  38                5.0   \n",
       "4                 F                  38                5.0   \n",
       "\n",
       "                                         Unnamed: 12  \\\n",
       "0                                   ClaimDescription   \n",
       "1  LIFTING TYRE INJURY TO RIGHT ARM AND WRIST INJURY   \n",
       "2  STEPPED AROUND CRATES AND TRUCK TRAY FRACTURE ...   \n",
       "3                   CUT ON SHARP EDGE CUT LEFT THUMB   \n",
       "4               DIGGING LOWER BACK LOWER BACK STRAIN   \n",
       "\n",
       "                 Unnamed: 13                Unnamed: 14  \n",
       "0  InitialIncurredCalimsCost  UltimateIncurredClaimCost  \n",
       "1                       1500                4748.203388  \n",
       "2                       5500                6326.285819  \n",
       "3                       1700                2293.949087  \n",
       "4                      15000                17786.48717  "
      ]
     },
     "execution_count": 497,
     "metadata": {},
     "output_type": "execute_result"
    }
   ],
   "source": [
    "#Checking the dataframe for training data\n",
    "df.head()"
   ]
  },
  {
   "cell_type": "markdown",
   "id": "a946f4c3",
   "metadata": {},
   "source": [
    "#### Renaming the column names in train data as it is \"unnamed\" "
   ]
  },
  {
   "cell_type": "code",
   "execution_count": 498,
   "id": "14ebbf41",
   "metadata": {},
   "outputs": [],
   "source": [
    "df=df.rename(columns={\"Unnamed: 0\":\"ClaimNumber\",\"Unnamed: 1\":\"DateTimeOfAccident\",\"Unnamed: 3\":\"Age\",\"Unnamed: 4\":\"Gender\",\n",
    "                      \"Unnamed: 5\":\"MaritalStatus\",\"Unnamed: 6\":\"DependentChildren\",\"Unnamed: 8\":\"WeeklyWages\",\n",
    "                      \"Unnamed: 9\":\"PartTimeFullTime\",\"Unnamed: 10\":\"HoursWorkedPerWeek\",\"Unnamed: 12\":\"ClaimDescription\",\n",
    "                      \"Unnamed: 13\":\"InitialIncurredCalimsCost\",\"Unnamed: 14\":'UltimateIncurredClaimCost'},inplace=False)"
   ]
  },
  {
   "cell_type": "markdown",
   "id": "715341ad",
   "metadata": {},
   "source": [
    "#### Dropping the first row as it has the column names in train data"
   ]
  },
  {
   "cell_type": "code",
   "execution_count": 499,
   "id": "a36126e0",
   "metadata": {},
   "outputs": [
    {
     "data": {
      "text/html": [
       "<div>\n",
       "<style scoped>\n",
       "    .dataframe tbody tr th:only-of-type {\n",
       "        vertical-align: middle;\n",
       "    }\n",
       "\n",
       "    .dataframe tbody tr th {\n",
       "        vertical-align: top;\n",
       "    }\n",
       "\n",
       "    .dataframe thead th {\n",
       "        text-align: right;\n",
       "    }\n",
       "</style>\n",
       "<table border=\"1\" class=\"dataframe\">\n",
       "  <thead>\n",
       "    <tr style=\"text-align: right;\">\n",
       "      <th></th>\n",
       "      <th>ClaimNumber</th>\n",
       "      <th>DateTimeOfAccident</th>\n",
       "      <th>DateReported</th>\n",
       "      <th>Age</th>\n",
       "      <th>Gender</th>\n",
       "      <th>MaritalStatus</th>\n",
       "      <th>DependentChildren</th>\n",
       "      <th>DependentsOther</th>\n",
       "      <th>WeeklyWages</th>\n",
       "      <th>PartTimeFullTime</th>\n",
       "      <th>HoursWorkedPerWeek</th>\n",
       "      <th>DaysWorkedPerWeek</th>\n",
       "      <th>ClaimDescription</th>\n",
       "      <th>InitialIncurredCalimsCost</th>\n",
       "      <th>UltimateIncurredClaimCost</th>\n",
       "    </tr>\n",
       "  </thead>\n",
       "  <tbody>\n",
       "    <tr>\n",
       "      <th>1</th>\n",
       "      <td>WC8205482</td>\n",
       "      <td>2002-04-09T07:00:00Z</td>\n",
       "      <td>2002-07-05T00:00:00Z</td>\n",
       "      <td>48</td>\n",
       "      <td>M</td>\n",
       "      <td>M</td>\n",
       "      <td>0</td>\n",
       "      <td>0.0</td>\n",
       "      <td>500</td>\n",
       "      <td>F</td>\n",
       "      <td>38</td>\n",
       "      <td>5.0</td>\n",
       "      <td>LIFTING TYRE INJURY TO RIGHT ARM AND WRIST INJURY</td>\n",
       "      <td>1500</td>\n",
       "      <td>4748.203388</td>\n",
       "    </tr>\n",
       "    <tr>\n",
       "      <th>2</th>\n",
       "      <td>WC6922469</td>\n",
       "      <td>1999-01-07T11:00:00Z</td>\n",
       "      <td>1999-01-20T00:00:00Z</td>\n",
       "      <td>43</td>\n",
       "      <td>F</td>\n",
       "      <td>M</td>\n",
       "      <td>0</td>\n",
       "      <td>0.0</td>\n",
       "      <td>509.34</td>\n",
       "      <td>F</td>\n",
       "      <td>37.5</td>\n",
       "      <td>5.0</td>\n",
       "      <td>STEPPED AROUND CRATES AND TRUCK TRAY FRACTURE ...</td>\n",
       "      <td>5500</td>\n",
       "      <td>6326.285819</td>\n",
       "    </tr>\n",
       "    <tr>\n",
       "      <th>3</th>\n",
       "      <td>WC5442654</td>\n",
       "      <td>1996-03-25T00:00:00Z</td>\n",
       "      <td>1996-04-14T00:00:00Z</td>\n",
       "      <td>30</td>\n",
       "      <td>M</td>\n",
       "      <td>U</td>\n",
       "      <td>0</td>\n",
       "      <td>0.0</td>\n",
       "      <td>709.1</td>\n",
       "      <td>F</td>\n",
       "      <td>38</td>\n",
       "      <td>5.0</td>\n",
       "      <td>CUT ON SHARP EDGE CUT LEFT THUMB</td>\n",
       "      <td>1700</td>\n",
       "      <td>2293.949087</td>\n",
       "    </tr>\n",
       "    <tr>\n",
       "      <th>4</th>\n",
       "      <td>WC9796897</td>\n",
       "      <td>2005-06-22T13:00:00Z</td>\n",
       "      <td>2005-07-22T00:00:00Z</td>\n",
       "      <td>41</td>\n",
       "      <td>M</td>\n",
       "      <td>S</td>\n",
       "      <td>0</td>\n",
       "      <td>0.0</td>\n",
       "      <td>555.46</td>\n",
       "      <td>F</td>\n",
       "      <td>38</td>\n",
       "      <td>5.0</td>\n",
       "      <td>DIGGING LOWER BACK LOWER BACK STRAIN</td>\n",
       "      <td>15000</td>\n",
       "      <td>17786.48717</td>\n",
       "    </tr>\n",
       "    <tr>\n",
       "      <th>5</th>\n",
       "      <td>WC2603726</td>\n",
       "      <td>1990-08-29T08:00:00Z</td>\n",
       "      <td>1990-09-27T00:00:00Z</td>\n",
       "      <td>36</td>\n",
       "      <td>M</td>\n",
       "      <td>M</td>\n",
       "      <td>0</td>\n",
       "      <td>0.0</td>\n",
       "      <td>377.1</td>\n",
       "      <td>F</td>\n",
       "      <td>38</td>\n",
       "      <td>5.0</td>\n",
       "      <td>REACHING ABOVE SHOULDER LEVEL ACUTE MUSCLE STR...</td>\n",
       "      <td>2800</td>\n",
       "      <td>4014.002925</td>\n",
       "    </tr>\n",
       "  </tbody>\n",
       "</table>\n",
       "</div>"
      ],
      "text/plain": [
       "  ClaimNumber    DateTimeOfAccident          DateReported Age Gender  \\\n",
       "1   WC8205482  2002-04-09T07:00:00Z  2002-07-05T00:00:00Z  48      M   \n",
       "2   WC6922469  1999-01-07T11:00:00Z  1999-01-20T00:00:00Z  43      F   \n",
       "3   WC5442654  1996-03-25T00:00:00Z  1996-04-14T00:00:00Z  30      M   \n",
       "4   WC9796897  2005-06-22T13:00:00Z  2005-07-22T00:00:00Z  41      M   \n",
       "5   WC2603726  1990-08-29T08:00:00Z  1990-09-27T00:00:00Z  36      M   \n",
       "\n",
       "  MaritalStatus DependentChildren  DependentsOther WeeklyWages  \\\n",
       "1             M                 0              0.0         500   \n",
       "2             M                 0              0.0      509.34   \n",
       "3             U                 0              0.0       709.1   \n",
       "4             S                 0              0.0      555.46   \n",
       "5             M                 0              0.0       377.1   \n",
       "\n",
       "  PartTimeFullTime HoursWorkedPerWeek  DaysWorkedPerWeek  \\\n",
       "1                F                 38                5.0   \n",
       "2                F               37.5                5.0   \n",
       "3                F                 38                5.0   \n",
       "4                F                 38                5.0   \n",
       "5                F                 38                5.0   \n",
       "\n",
       "                                    ClaimDescription  \\\n",
       "1  LIFTING TYRE INJURY TO RIGHT ARM AND WRIST INJURY   \n",
       "2  STEPPED AROUND CRATES AND TRUCK TRAY FRACTURE ...   \n",
       "3                   CUT ON SHARP EDGE CUT LEFT THUMB   \n",
       "4               DIGGING LOWER BACK LOWER BACK STRAIN   \n",
       "5  REACHING ABOVE SHOULDER LEVEL ACUTE MUSCLE STR...   \n",
       "\n",
       "  InitialIncurredCalimsCost UltimateIncurredClaimCost  \n",
       "1                      1500               4748.203388  \n",
       "2                      5500               6326.285819  \n",
       "3                      1700               2293.949087  \n",
       "4                     15000               17786.48717  \n",
       "5                      2800               4014.002925  "
      ]
     },
     "execution_count": 499,
     "metadata": {},
     "output_type": "execute_result"
    }
   ],
   "source": [
    "df=df.drop(df.index[0])\n",
    "df.head()"
   ]
  },
  {
   "cell_type": "markdown",
   "id": "c4f76ebf",
   "metadata": {},
   "source": [
    "### Data Frame Summary"
   ]
  },
  {
   "cell_type": "code",
   "execution_count": 500,
   "id": "5cd4fc36",
   "metadata": {},
   "outputs": [
    {
     "name": "stdout",
     "output_type": "stream",
     "text": [
      "<class 'pandas.core.frame.DataFrame'>\n",
      "Int64Index: 36176 entries, 1 to 36176\n",
      "Data columns (total 15 columns):\n",
      " #   Column                     Non-Null Count  Dtype  \n",
      "---  ------                     --------------  -----  \n",
      " 0   ClaimNumber                36176 non-null  object \n",
      " 1   DateTimeOfAccident         36176 non-null  object \n",
      " 2   DateReported               36176 non-null  object \n",
      " 3   Age                        36176 non-null  object \n",
      " 4   Gender                     36176 non-null  object \n",
      " 5   MaritalStatus              36154 non-null  object \n",
      " 6   DependentChildren          36176 non-null  object \n",
      " 7   DependentsOther            36176 non-null  float64\n",
      " 8   WeeklyWages                36120 non-null  object \n",
      " 9   PartTimeFullTime           36176 non-null  object \n",
      " 10  HoursWorkedPerWeek         36127 non-null  object \n",
      " 11  DaysWorkedPerWeek          36176 non-null  float64\n",
      " 12  ClaimDescription           36176 non-null  object \n",
      " 13  InitialIncurredCalimsCost  36176 non-null  object \n",
      " 14  UltimateIncurredClaimCost  36176 non-null  object \n",
      "dtypes: float64(2), object(13)\n",
      "memory usage: 4.4+ MB\n"
     ]
    }
   ],
   "source": [
    "#for training data\n",
    "df.info()"
   ]
  },
  {
   "cell_type": "code",
   "execution_count": 501,
   "id": "91ff1a77",
   "metadata": {},
   "outputs": [
    {
     "name": "stdout",
     "output_type": "stream",
     "text": [
      "<class 'pandas.core.frame.DataFrame'>\n",
      "RangeIndex: 17824 entries, 0 to 17823\n",
      "Data columns (total 14 columns):\n",
      " #   Column                     Non-Null Count  Dtype  \n",
      "---  ------                     --------------  -----  \n",
      " 0   ClaimNumber                17824 non-null  object \n",
      " 1   DateTimeOfAccident         17824 non-null  object \n",
      " 2   DateReported               17824 non-null  object \n",
      " 3   Age                        17824 non-null  int64  \n",
      " 4   Gender                     17824 non-null  object \n",
      " 5   MaritalStatus              17817 non-null  object \n",
      " 6   DependentChildren          17824 non-null  int64  \n",
      " 7   DependentsOther            17824 non-null  int64  \n",
      " 8   WeeklyWages                17824 non-null  float64\n",
      " 9   PartTimeFullTime           17824 non-null  object \n",
      " 10  HoursWorkedPerWeek         17824 non-null  float64\n",
      " 11  DaysWorkedPerWeek          17824 non-null  int64  \n",
      " 12  ClaimDescription           17824 non-null  object \n",
      " 13  InitialIncurredCalimsCost  17824 non-null  int64  \n",
      "dtypes: float64(2), int64(5), object(7)\n",
      "memory usage: 1.9+ MB\n"
     ]
    }
   ],
   "source": [
    "#test data\n",
    "df1.info()"
   ]
  },
  {
   "cell_type": "code",
   "execution_count": 502,
   "id": "6fb0fa7f",
   "metadata": {},
   "outputs": [
    {
     "data": {
      "text/plain": [
       "Index(['ClaimNumber', 'DateTimeOfAccident', 'DateReported', 'Age', 'Gender',\n",
       "       'MaritalStatus', 'DependentChildren', 'WeeklyWages', 'PartTimeFullTime',\n",
       "       'HoursWorkedPerWeek', 'ClaimDescription', 'InitialIncurredCalimsCost',\n",
       "       'UltimateIncurredClaimCost'],\n",
       "      dtype='object')"
      ]
     },
     "execution_count": 502,
     "metadata": {},
     "output_type": "execute_result"
    }
   ],
   "source": [
    "#Checking for Categorical Data in train data\n",
    "df.select_dtypes(exclude=['int64','float64']).columns "
   ]
  },
  {
   "cell_type": "markdown",
   "id": "c2797fde",
   "metadata": {},
   "source": [
    "##### Changing the data type for some columns in train data"
   ]
  },
  {
   "cell_type": "code",
   "execution_count": 503,
   "id": "e3dd0745",
   "metadata": {},
   "outputs": [],
   "source": [
    "df['Age'] = pd.to_numeric(df['Age']) \n",
    "df['DependentChildren'] = pd.to_numeric(df['DependentChildren'])\n",
    "df['DependentsOther'] = pd.to_numeric(df['DependentsOther'])\n",
    "df['WeeklyWages'] = pd.to_numeric(df['WeeklyWages'])\n",
    "df['HoursWorkedPerWeek'] = pd.to_numeric(df['HoursWorkedPerWeek'])\n",
    "df['DaysWorkedPerWeek'] = pd.to_numeric(df['DaysWorkedPerWeek'])\n",
    "df['InitialIncurredCalimsCost'] = pd.to_numeric(df['InitialIncurredCalimsCost'])\n",
    "df['UltimateIncurredClaimCost'] = pd.to_numeric(df['UltimateIncurredClaimCost'])"
   ]
  },
  {
   "cell_type": "markdown",
   "id": "e5207489",
   "metadata": {},
   "source": [
    "##### To check if the data type changed or not "
   ]
  },
  {
   "cell_type": "code",
   "execution_count": 504,
   "id": "dff1631b",
   "metadata": {},
   "outputs": [
    {
     "name": "stdout",
     "output_type": "stream",
     "text": [
      "<class 'pandas.core.frame.DataFrame'>\n",
      "Int64Index: 36176 entries, 1 to 36176\n",
      "Data columns (total 15 columns):\n",
      " #   Column                     Non-Null Count  Dtype  \n",
      "---  ------                     --------------  -----  \n",
      " 0   ClaimNumber                36176 non-null  object \n",
      " 1   DateTimeOfAccident         36176 non-null  object \n",
      " 2   DateReported               36176 non-null  object \n",
      " 3   Age                        36176 non-null  int64  \n",
      " 4   Gender                     36176 non-null  object \n",
      " 5   MaritalStatus              36154 non-null  object \n",
      " 6   DependentChildren          36176 non-null  int64  \n",
      " 7   DependentsOther            36176 non-null  float64\n",
      " 8   WeeklyWages                36120 non-null  float64\n",
      " 9   PartTimeFullTime           36176 non-null  object \n",
      " 10  HoursWorkedPerWeek         36127 non-null  float64\n",
      " 11  DaysWorkedPerWeek          36176 non-null  float64\n",
      " 12  ClaimDescription           36176 non-null  object \n",
      " 13  InitialIncurredCalimsCost  36176 non-null  int64  \n",
      " 14  UltimateIncurredClaimCost  36176 non-null  float64\n",
      "dtypes: float64(5), int64(3), object(7)\n",
      "memory usage: 4.4+ MB\n"
     ]
    }
   ],
   "source": [
    "df.info()"
   ]
  },
  {
   "cell_type": "code",
   "execution_count": 505,
   "id": "e2861665",
   "metadata": {
    "scrolled": true
   },
   "outputs": [
    {
     "data": {
      "text/html": [
       "<div>\n",
       "<style scoped>\n",
       "    .dataframe tbody tr th:only-of-type {\n",
       "        vertical-align: middle;\n",
       "    }\n",
       "\n",
       "    .dataframe tbody tr th {\n",
       "        vertical-align: top;\n",
       "    }\n",
       "\n",
       "    .dataframe thead th {\n",
       "        text-align: right;\n",
       "    }\n",
       "</style>\n",
       "<table border=\"1\" class=\"dataframe\">\n",
       "  <thead>\n",
       "    <tr style=\"text-align: right;\">\n",
       "      <th></th>\n",
       "      <th>Age</th>\n",
       "      <th>DependentChildren</th>\n",
       "      <th>DependentsOther</th>\n",
       "      <th>WeeklyWages</th>\n",
       "      <th>HoursWorkedPerWeek</th>\n",
       "      <th>DaysWorkedPerWeek</th>\n",
       "      <th>InitialIncurredCalimsCost</th>\n",
       "      <th>UltimateIncurredClaimCost</th>\n",
       "    </tr>\n",
       "  </thead>\n",
       "  <tbody>\n",
       "    <tr>\n",
       "      <th>count</th>\n",
       "      <td>36176.000000</td>\n",
       "      <td>36176.000000</td>\n",
       "      <td>36176.000000</td>\n",
       "      <td>36120.000000</td>\n",
       "      <td>36127.000000</td>\n",
       "      <td>36176.000000</td>\n",
       "      <td>36176.000000</td>\n",
       "      <td>3.617600e+04</td>\n",
       "    </tr>\n",
       "    <tr>\n",
       "      <th>mean</th>\n",
       "      <td>33.795196</td>\n",
       "      <td>0.121296</td>\n",
       "      <td>0.009537</td>\n",
       "      <td>416.471426</td>\n",
       "      <td>37.766820</td>\n",
       "      <td>4.905794</td>\n",
       "      <td>7743.593874</td>\n",
       "      <td>1.095282e+04</td>\n",
       "    </tr>\n",
       "    <tr>\n",
       "      <th>std</th>\n",
       "      <td>12.114729</td>\n",
       "      <td>0.525395</td>\n",
       "      <td>0.106163</td>\n",
       "      <td>243.875364</td>\n",
       "      <td>12.494323</td>\n",
       "      <td>0.547077</td>\n",
       "      <td>18223.698531</td>\n",
       "      <td>3.529614e+04</td>\n",
       "    </tr>\n",
       "    <tr>\n",
       "      <th>min</th>\n",
       "      <td>13.000000</td>\n",
       "      <td>0.000000</td>\n",
       "      <td>0.000000</td>\n",
       "      <td>1.000000</td>\n",
       "      <td>0.000000</td>\n",
       "      <td>1.000000</td>\n",
       "      <td>1.000000</td>\n",
       "      <td>1.218868e+02</td>\n",
       "    </tr>\n",
       "    <tr>\n",
       "      <th>25%</th>\n",
       "      <td>23.000000</td>\n",
       "      <td>0.000000</td>\n",
       "      <td>0.000000</td>\n",
       "      <td>200.000000</td>\n",
       "      <td>38.000000</td>\n",
       "      <td>5.000000</td>\n",
       "      <td>700.000000</td>\n",
       "      <td>9.257424e+02</td>\n",
       "    </tr>\n",
       "    <tr>\n",
       "      <th>50%</th>\n",
       "      <td>32.000000</td>\n",
       "      <td>0.000000</td>\n",
       "      <td>0.000000</td>\n",
       "      <td>393.365000</td>\n",
       "      <td>38.000000</td>\n",
       "      <td>5.000000</td>\n",
       "      <td>2000.000000</td>\n",
       "      <td>3.373862e+03</td>\n",
       "    </tr>\n",
       "    <tr>\n",
       "      <th>75%</th>\n",
       "      <td>43.000000</td>\n",
       "      <td>0.000000</td>\n",
       "      <td>0.000000</td>\n",
       "      <td>500.000000</td>\n",
       "      <td>40.000000</td>\n",
       "      <td>5.000000</td>\n",
       "      <td>9500.000000</td>\n",
       "      <td>8.186852e+03</td>\n",
       "    </tr>\n",
       "    <tr>\n",
       "      <th>max</th>\n",
       "      <td>79.000000</td>\n",
       "      <td>9.000000</td>\n",
       "      <td>3.000000</td>\n",
       "      <td>7497.000000</td>\n",
       "      <td>640.000000</td>\n",
       "      <td>7.000000</td>\n",
       "      <td>830000.000000</td>\n",
       "      <td>4.027136e+06</td>\n",
       "    </tr>\n",
       "  </tbody>\n",
       "</table>\n",
       "</div>"
      ],
      "text/plain": [
       "                Age  DependentChildren  DependentsOther   WeeklyWages  \\\n",
       "count  36176.000000       36176.000000     36176.000000  36120.000000   \n",
       "mean      33.795196           0.121296         0.009537    416.471426   \n",
       "std       12.114729           0.525395         0.106163    243.875364   \n",
       "min       13.000000           0.000000         0.000000      1.000000   \n",
       "25%       23.000000           0.000000         0.000000    200.000000   \n",
       "50%       32.000000           0.000000         0.000000    393.365000   \n",
       "75%       43.000000           0.000000         0.000000    500.000000   \n",
       "max       79.000000           9.000000         3.000000   7497.000000   \n",
       "\n",
       "       HoursWorkedPerWeek  DaysWorkedPerWeek  InitialIncurredCalimsCost  \\\n",
       "count        36127.000000       36176.000000               36176.000000   \n",
       "mean            37.766820           4.905794                7743.593874   \n",
       "std             12.494323           0.547077               18223.698531   \n",
       "min              0.000000           1.000000                   1.000000   \n",
       "25%             38.000000           5.000000                 700.000000   \n",
       "50%             38.000000           5.000000                2000.000000   \n",
       "75%             40.000000           5.000000                9500.000000   \n",
       "max            640.000000           7.000000              830000.000000   \n",
       "\n",
       "       UltimateIncurredClaimCost  \n",
       "count               3.617600e+04  \n",
       "mean                1.095282e+04  \n",
       "std                 3.529614e+04  \n",
       "min                 1.218868e+02  \n",
       "25%                 9.257424e+02  \n",
       "50%                 3.373862e+03  \n",
       "75%                 8.186852e+03  \n",
       "max                 4.027136e+06  "
      ]
     },
     "execution_count": 505,
     "metadata": {},
     "output_type": "execute_result"
    }
   ],
   "source": [
    " #checking the description of train data\n",
    "df.describe()"
   ]
  },
  {
   "cell_type": "markdown",
   "id": "5aa72d27",
   "metadata": {},
   "source": [
    "##### Working on the train data"
   ]
  },
  {
   "cell_type": "markdown",
   "id": "52fe6b4b",
   "metadata": {},
   "source": [
    "##### Checking the shape of dataset"
   ]
  },
  {
   "cell_type": "code",
   "execution_count": 506,
   "id": "c38cfe40",
   "metadata": {},
   "outputs": [
    {
     "data": {
      "text/plain": [
       "(36176, 15)"
      ]
     },
     "execution_count": 506,
     "metadata": {},
     "output_type": "execute_result"
    }
   ],
   "source": [
    "df.shape "
   ]
  },
  {
   "cell_type": "markdown",
   "id": "55e7e107",
   "metadata": {},
   "source": [
    "##### Checking for duplicate values"
   ]
  },
  {
   "cell_type": "code",
   "execution_count": 507,
   "id": "47172d90",
   "metadata": {},
   "outputs": [
    {
     "data": {
      "text/plain": [
       "0"
      ]
     },
     "execution_count": 507,
     "metadata": {},
     "output_type": "execute_result"
    }
   ],
   "source": [
    "df.duplicated().sum() "
   ]
  },
  {
   "cell_type": "markdown",
   "id": "653a2290",
   "metadata": {},
   "source": [
    "##### Checking for missing values"
   ]
  },
  {
   "cell_type": "code",
   "execution_count": 508,
   "id": "a84fdaad",
   "metadata": {},
   "outputs": [
    {
     "data": {
      "text/plain": [
       "ClaimNumber                   0\n",
       "DateTimeOfAccident            0\n",
       "DateReported                  0\n",
       "Age                           0\n",
       "Gender                        0\n",
       "MaritalStatus                22\n",
       "DependentChildren             0\n",
       "DependentsOther               0\n",
       "WeeklyWages                  56\n",
       "PartTimeFullTime              0\n",
       "HoursWorkedPerWeek           49\n",
       "DaysWorkedPerWeek             0\n",
       "ClaimDescription              0\n",
       "InitialIncurredCalimsCost     0\n",
       "UltimateIncurredClaimCost     0\n",
       "dtype: int64"
      ]
     },
     "execution_count": 508,
     "metadata": {},
     "output_type": "execute_result"
    }
   ],
   "source": [
    "df.isnull().sum()"
   ]
  },
  {
   "cell_type": "markdown",
   "id": "7d15aefa",
   "metadata": {},
   "source": [
    "##### Using mean and mode imputation to treating the missing values "
   ]
  },
  {
   "cell_type": "code",
   "execution_count": 509,
   "id": "96e947dd",
   "metadata": {},
   "outputs": [],
   "source": [
    "df['WeeklyWages']=df['WeeklyWages'].fillna(df['WeeklyWages'].mean())\n",
    "df['HoursWorkedPerWeek']=df['HoursWorkedPerWeek'].fillna(df['HoursWorkedPerWeek'].mean())\n",
    "df['MaritalStatus']=df['MaritalStatus'].fillna(df['MaritalStatus'].mode()[0])"
   ]
  },
  {
   "cell_type": "code",
   "execution_count": 510,
   "id": "dd3d3f50",
   "metadata": {},
   "outputs": [
    {
     "data": {
      "text/plain": [
       "ClaimNumber                  0\n",
       "DateTimeOfAccident           0\n",
       "DateReported                 0\n",
       "Age                          0\n",
       "Gender                       0\n",
       "MaritalStatus                0\n",
       "DependentChildren            0\n",
       "DependentsOther              0\n",
       "WeeklyWages                  0\n",
       "PartTimeFullTime             0\n",
       "HoursWorkedPerWeek           0\n",
       "DaysWorkedPerWeek            0\n",
       "ClaimDescription             0\n",
       "InitialIncurredCalimsCost    0\n",
       "UltimateIncurredClaimCost    0\n",
       "dtype: int64"
      ]
     },
     "execution_count": 510,
     "metadata": {},
     "output_type": "execute_result"
    }
   ],
   "source": [
    "#To verify if there are any more missing values\n",
    "df.isnull().sum()"
   ]
  },
  {
   "cell_type": "markdown",
   "id": "ed995432",
   "metadata": {},
   "source": [
    "##### Now there are no missing values "
   ]
  },
  {
   "cell_type": "markdown",
   "id": "e30066e6",
   "metadata": {},
   "source": [
    "##### Dividing the data into categorical and numerical data"
   ]
  },
  {
   "cell_type": "code",
   "execution_count": 511,
   "id": "e2bd20a7",
   "metadata": {},
   "outputs": [],
   "source": [
    "df_num=df[{'Age','DependentChildren', 'DependentsOther', 'WeeklyWages', 'HoursWorkedPerWeek', 'DaysWorkedPerWeek',\n",
    "           'InitialIncurredCalimsCost','UltimateIncurredClaimCost', }]\n",
    "df_cat=df[{'ClaimNumber', 'DateTimeOfAccident', 'DateReported','Gender' ,'MaritalStatus','PartTimeFullTime','ClaimDescription'}]"
   ]
  },
  {
   "cell_type": "markdown",
   "id": "d89939dc",
   "metadata": {},
   "source": [
    "##### For understanding categorical data \n"
   ]
  },
  {
   "cell_type": "code",
   "execution_count": 512,
   "id": "deb3f8d6",
   "metadata": {},
   "outputs": [
    {
     "data": {
      "text/plain": [
       "S    17472\n",
       "M    15162\n",
       "U     3542\n",
       "Name: MaritalStatus, dtype: int64"
      ]
     },
     "execution_count": 512,
     "metadata": {},
     "output_type": "execute_result"
    }
   ],
   "source": [
    "df['MaritalStatus'].value_counts()"
   ]
  },
  {
   "cell_type": "code",
   "execution_count": 513,
   "id": "137f3dad",
   "metadata": {},
   "outputs": [
    {
     "data": {
      "text/plain": [
       "M    27919\n",
       "F     8256\n",
       "U        1\n",
       "Name: Gender, dtype: int64"
      ]
     },
     "execution_count": 513,
     "metadata": {},
     "output_type": "execute_result"
    }
   ],
   "source": [
    "df['Gender'].value_counts()"
   ]
  },
  {
   "cell_type": "code",
   "execution_count": 514,
   "id": "cedb75c3",
   "metadata": {},
   "outputs": [
    {
     "data": {
      "text/plain": [
       "F    32917\n",
       "P     3259\n",
       "Name: PartTimeFullTime, dtype: int64"
      ]
     },
     "execution_count": 514,
     "metadata": {},
     "output_type": "execute_result"
    }
   ],
   "source": [
    "df['PartTimeFullTime'].value_counts()"
   ]
  },
  {
   "cell_type": "code",
   "execution_count": 515,
   "id": "701bee2b",
   "metadata": {},
   "outputs": [
    {
     "data": {
      "text/plain": [
       "20596"
      ]
     },
     "execution_count": 515,
     "metadata": {},
     "output_type": "execute_result"
    }
   ],
   "source": [
    "df['ClaimDescription'].nunique()"
   ]
  },
  {
   "cell_type": "markdown",
   "id": "f8074007",
   "metadata": {},
   "source": [
    "##### There are 20596 unique claims made."
   ]
  },
  {
   "cell_type": "code",
   "execution_count": 516,
   "id": "218ca57c",
   "metadata": {},
   "outputs": [
    {
     "data": {
      "text/plain": [
       "36176"
      ]
     },
     "execution_count": 516,
     "metadata": {},
     "output_type": "execute_result"
    }
   ],
   "source": [
    "df.ClaimNumber.count()"
   ]
  },
  {
   "cell_type": "markdown",
   "id": "e9dba1ed",
   "metadata": {},
   "source": [
    "##### The total number of claims filed is 36176."
   ]
  },
  {
   "cell_type": "code",
   "execution_count": 517,
   "id": "73185d2f",
   "metadata": {},
   "outputs": [
    {
     "data": {
      "text/plain": [
       "29456"
      ]
     },
     "execution_count": 517,
     "metadata": {},
     "output_type": "execute_result"
    }
   ],
   "source": [
    "df['ClaimNumber'].nunique()"
   ]
  },
  {
   "cell_type": "markdown",
   "id": "f855f7a4",
   "metadata": {},
   "source": [
    "##### The total number of claims that were filed is 36176 but number of unique claims are 29456."
   ]
  },
  {
   "cell_type": "markdown",
   "id": "4a9fb2c7",
   "metadata": {},
   "source": [
    "### Data Transformation"
   ]
  },
  {
   "cell_type": "markdown",
   "id": "3e5925c7",
   "metadata": {},
   "source": [
    "#### Data  binning"
   ]
  },
  {
   "cell_type": "code",
   "execution_count": 518,
   "id": "9fb235d5",
   "metadata": {},
   "outputs": [
    {
     "data": {
      "text/plain": [
       "<bound method IndexOpsMixin.value_counts of 1        48\n",
       "2        43\n",
       "3        30\n",
       "4        41\n",
       "5        36\n",
       "         ..\n",
       "36172    20\n",
       "36173    35\n",
       "36174    52\n",
       "36175    28\n",
       "36176    29\n",
       "Name: Age, Length: 36176, dtype: int64>"
      ]
     },
     "execution_count": 518,
     "metadata": {},
     "output_type": "execute_result"
    }
   ],
   "source": [
    "df['Age'].value_counts"
   ]
  },
  {
   "cell_type": "code",
   "execution_count": 519,
   "id": "46dcd34b",
   "metadata": {},
   "outputs": [
    {
     "data": {
      "text/plain": [
       "13"
      ]
     },
     "execution_count": 519,
     "metadata": {},
     "output_type": "execute_result"
    }
   ],
   "source": [
    "df['Age'].min()"
   ]
  },
  {
   "cell_type": "code",
   "execution_count": 520,
   "id": "53a6ce39",
   "metadata": {},
   "outputs": [
    {
     "data": {
      "text/plain": [
       "79"
      ]
     },
     "execution_count": 520,
     "metadata": {},
     "output_type": "execute_result"
    }
   ],
   "source": [
    "df['Age'].max()"
   ]
  },
  {
   "cell_type": "code",
   "execution_count": 521,
   "id": "e4f8cca0",
   "metadata": {},
   "outputs": [
    {
     "data": {
      "text/plain": [
       "1        Middle-Age\n",
       "2        Middle-Age\n",
       "3        Middle-Age\n",
       "4        Middle-Age\n",
       "5        Middle-Age\n",
       "            ...    \n",
       "36172         Young\n",
       "36173    Middle-Age\n",
       "36174           Old\n",
       "36175    Middle-Age\n",
       "36176    Middle-Age\n",
       "Name: Age_Bin, Length: 36176, dtype: category\n",
       "Categories (3, object): ['Young' < 'Middle-Age' < 'Old']"
      ]
     },
     "execution_count": 521,
     "metadata": {},
     "output_type": "execute_result"
    }
   ],
   "source": [
    "df['Age_Bin']=pd.cut(df['Age'],bins=[1,25,50,80] , labels=['Young','Middle-Age','Old'])\n",
    "df['Age_Bin']"
   ]
  },
  {
   "cell_type": "code",
   "execution_count": 522,
   "id": "9a19464f",
   "metadata": {},
   "outputs": [
    {
     "data": {
      "text/plain": [
       "<bound method IndexOpsMixin.value_counts of 1         500.00\n",
       "2         509.34\n",
       "3         709.10\n",
       "4         555.46\n",
       "5         377.10\n",
       "          ...   \n",
       "36172     344.16\n",
       "36173    1668.83\n",
       "36174     204.87\n",
       "36175     730.87\n",
       "36176     200.00\n",
       "Name: WeeklyWages, Length: 36176, dtype: float64>"
      ]
     },
     "execution_count": 522,
     "metadata": {},
     "output_type": "execute_result"
    }
   ],
   "source": [
    "df['WeeklyWages'].value_counts"
   ]
  },
  {
   "cell_type": "code",
   "execution_count": 523,
   "id": "3de4e8c3",
   "metadata": {},
   "outputs": [
    {
     "data": {
      "text/plain": [
       "7497.0"
      ]
     },
     "execution_count": 523,
     "metadata": {},
     "output_type": "execute_result"
    }
   ],
   "source": [
    "df['WeeklyWages'].max()"
   ]
  },
  {
   "cell_type": "code",
   "execution_count": 524,
   "id": "abb4c746",
   "metadata": {},
   "outputs": [
    {
     "data": {
      "text/plain": [
       "1.0"
      ]
     },
     "execution_count": 524,
     "metadata": {},
     "output_type": "execute_result"
    }
   ],
   "source": [
    "df['WeeklyWages'].min()"
   ]
  },
  {
   "cell_type": "code",
   "execution_count": 525,
   "id": "3784f1ef",
   "metadata": {},
   "outputs": [
    {
     "data": {
      "text/plain": [
       "1                  Low\n",
       "2                  Low\n",
       "3                  Low\n",
       "4                  Low\n",
       "5                  Low\n",
       "             ...      \n",
       "36172              Low\n",
       "36173    Below Average\n",
       "36174              Low\n",
       "36175              Low\n",
       "36176              Low\n",
       "Name: WeeklyWages_Bin, Length: 36176, dtype: category\n",
       "Categories (5, object): ['Low' < 'Below Average' < 'Average Wage' < 'Above Average' < 'High']"
      ]
     },
     "execution_count": 525,
     "metadata": {},
     "output_type": "execute_result"
    }
   ],
   "source": [
    "df['WeeklyWages_Bin']=pd.cut(df['WeeklyWages'],bins=[0,1000,2000,4000,7000,8000] , labels=['Low','Below Average','Average Wage','Above Average','High'])\n",
    "df['WeeklyWages_Bin']"
   ]
  },
  {
   "cell_type": "markdown",
   "id": "d7e159dd",
   "metadata": {},
   "source": [
    " ## Exploratory Data Analysis : Univariate Analysis"
   ]
  },
  {
   "cell_type": "code",
   "execution_count": 526,
   "id": "291d99ee",
   "metadata": {},
   "outputs": [
    {
     "data": {
      "text/plain": [
       "count    3.617600e+04\n",
       "mean     1.095282e+04\n",
       "std      3.529614e+04\n",
       "min      1.218868e+02\n",
       "25%      9.257424e+02\n",
       "50%      3.373862e+03\n",
       "75%      8.186852e+03\n",
       "max      4.027136e+06\n",
       "Name: UltimateIncurredClaimCost, dtype: float64"
      ]
     },
     "execution_count": 526,
     "metadata": {},
     "output_type": "execute_result"
    }
   ],
   "source": [
    "#Checking the target variable \n",
    "df['UltimateIncurredClaimCost'].describe()"
   ]
  },
  {
   "cell_type": "code",
   "execution_count": 527,
   "id": "bf34f8a7",
   "metadata": {},
   "outputs": [
    {
     "name": "stderr",
     "output_type": "stream",
     "text": [
      "C:\\Users\\SARAH\\anaconda3\\lib\\site-packages\\seaborn\\distributions.py:2557: FutureWarning: `distplot` is a deprecated function and will be removed in a future version. Please adapt your code to use either `displot` (a figure-level function with similar flexibility) or `histplot` (an axes-level function for histograms).\n",
      "  warnings.warn(msg, FutureWarning)\n"
     ]
    },
    {
     "data": {
      "text/plain": [
       "<AxesSubplot:xlabel='UltimateIncurredClaimCost', ylabel='Density'>"
      ]
     },
     "execution_count": 527,
     "metadata": {},
     "output_type": "execute_result"
    },
    {
     "data": {
      "image/png": "[encoded data removed]",
      "text/plain": [
       "<Figure size 432x288 with 1 Axes>"
      ]
     },
     "metadata": {
      "needs_background": "light"
     },
     "output_type": "display_data"
    }
   ],
   "source": [
    "#Checking the skewness of the target variable \n",
    "df['UltimateIncurredClaimCost'].hist(bins=50)\n",
    "sns.distplot(df['UltimateIncurredClaimCost'])"
   ]
  },
  {
   "cell_type": "markdown",
   "id": "44a582cd",
   "metadata": {},
   "source": [
    "##### The data for UltimateIncurredClaimCost is right skewed."
   ]
  },
  {
   "cell_type": "code",
   "execution_count": 528,
   "id": "7c797029",
   "metadata": {},
   "outputs": [
    {
     "data": {
      "text/plain": [
       "count     36176.000000\n",
       "mean       7743.593874\n",
       "std       18223.698531\n",
       "min           1.000000\n",
       "25%         700.000000\n",
       "50%        2000.000000\n",
       "75%        9500.000000\n",
       "max      830000.000000\n",
       "Name: InitialIncurredCalimsCost, dtype: float64"
      ]
     },
     "execution_count": 528,
     "metadata": {},
     "output_type": "execute_result"
    }
   ],
   "source": [
    "df['InitialIncurredCalimsCost'].describe()"
   ]
  },
  {
   "cell_type": "code",
   "execution_count": 529,
   "id": "fccc9487",
   "metadata": {
    "scrolled": true
   },
   "outputs": [
    {
     "name": "stderr",
     "output_type": "stream",
     "text": [
      "C:\\Users\\SARAH\\anaconda3\\lib\\site-packages\\seaborn\\distributions.py:2557: FutureWarning: `distplot` is a deprecated function and will be removed in a future version. Please adapt your code to use either `displot` (a figure-level function with similar flexibility) or `histplot` (an axes-level function for histograms).\n",
      "  warnings.warn(msg, FutureWarning)\n"
     ]
    },
    {
     "data": {
      "text/plain": [
       "<AxesSubplot:xlabel='InitialIncurredCalimsCost', ylabel='Density'>"
      ]
     },
     "execution_count": 529,
     "metadata": {},
     "output_type": "execute_result"
    },
    {
     "data": {
      "image/png": "[encoded data removed]",
      "text/plain": [
       "<Figure size 432x288 with 1 Axes>"
      ]
     },
     "metadata": {
      "needs_background": "light"
     },
     "output_type": "display_data"
    }
   ],
   "source": [
    "df['InitialIncurredCalimsCost'].hist(bins=30)\n",
    "sns.distplot(df['InitialIncurredCalimsCost'])"
   ]
  },
  {
   "cell_type": "markdown",
   "id": "bacc4c89",
   "metadata": {},
   "source": [
    "##### The data for InitialIncurredClaimCost is right skewed."
   ]
  },
  {
   "cell_type": "code",
   "execution_count": 530,
   "id": "2104595f",
   "metadata": {},
   "outputs": [
    {
     "name": "stderr",
     "output_type": "stream",
     "text": [
      "C:\\Users\\SARAH\\anaconda3\\lib\\site-packages\\seaborn\\distributions.py:2557: FutureWarning: `distplot` is a deprecated function and will be removed in a future version. Please adapt your code to use either `displot` (a figure-level function with similar flexibility) or `histplot` (an axes-level function for histograms).\n",
      "  warnings.warn(msg, FutureWarning)\n"
     ]
    },
    {
     "data": {
      "text/plain": [
       "<AxesSubplot:xlabel='Age', ylabel='Density'>"
      ]
     },
     "execution_count": 530,
     "metadata": {},
     "output_type": "execute_result"
    },
    {
     "data": {
      "image/png": "[encoded data removed]",
      "text/plain": [
       "<Figure size 432x288 with 1 Axes>"
      ]
     },
     "metadata": {
      "needs_background": "light"
     },
     "output_type": "display_data"
    }
   ],
   "source": [
    "sns.distplot(df['Age'])"
   ]
  },
  {
   "cell_type": "code",
   "execution_count": 531,
   "id": "d9db61e3",
   "metadata": {},
   "outputs": [
    {
     "data": {
      "text/plain": [
       "<AxesSubplot:xlabel='Age_Bin', ylabel='count'>"
      ]
     },
     "execution_count": 531,
     "metadata": {},
     "output_type": "execute_result"
    },
    {
     "data": {
      "image/png": "[encoded data removed]",
      "text/plain": [
       "<Figure size 432x288 with 1 Axes>"
      ]
     },
     "metadata": {
      "needs_background": "light"
     },
     "output_type": "display_data"
    }
   ],
   "source": [
    "sns.countplot(x = 'Age_Bin', data = df)"
   ]
  },
  {
   "cell_type": "code",
   "execution_count": 532,
   "id": "94c51d0d",
   "metadata": {},
   "outputs": [
    {
     "data": {
      "text/plain": [
       "Middle-Age    56.844317\n",
       "Young         31.750332\n",
       "Old           11.405352\n",
       "Name: Age_Bin, dtype: float64"
      ]
     },
     "execution_count": 532,
     "metadata": {},
     "output_type": "execute_result"
    }
   ],
   "source": [
    "df['Age_Bin'].value_counts(normalize=True)*100"
   ]
  },
  {
   "cell_type": "markdown",
   "id": "4e1b2a5c",
   "metadata": {},
   "source": [
    "##### From both the plots we can see that the claims are higher from the middle age group (25-40) which is roughly 57%. "
   ]
  },
  {
   "cell_type": "code",
   "execution_count": 533,
   "id": "089c5274",
   "metadata": {},
   "outputs": [
    {
     "data": {
      "text/plain": [
       "<AxesSubplot:xlabel='DependentChildren', ylabel='count'>"
      ]
     },
     "execution_count": 533,
     "metadata": {},
     "output_type": "execute_result"
    },
    {
     "data": {
      "image/png": "[encoded data removed]",
      "text/plain": [
       "<Figure size 432x288 with 1 Axes>"
      ]
     },
     "metadata": {
      "needs_background": "light"
     },
     "output_type": "display_data"
    }
   ],
   "source": [
    "sns.countplot(x = 'DependentChildren', data = df)"
   ]
  },
  {
   "cell_type": "code",
   "execution_count": 534,
   "id": "eef84946",
   "metadata": {},
   "outputs": [
    {
     "data": {
      "text/plain": [
       "0    93.703008\n",
       "2     2.554180\n",
       "1     2.371738\n",
       "3     0.975785\n",
       "4     0.284719\n",
       "5     0.093985\n",
       "6     0.011057\n",
       "8     0.002764\n",
       "9     0.002764\n",
       "Name: DependentChildren, dtype: float64"
      ]
     },
     "execution_count": 534,
     "metadata": {},
     "output_type": "execute_result"
    }
   ],
   "source": [
    "df['DependentChildren'].value_counts(normalize=True)*100"
   ]
  },
  {
   "cell_type": "markdown",
   "id": "0b9a720f",
   "metadata": {},
   "source": [
    "##### The claims made from people with no children as dependents is high(Almost 94%)."
   ]
  },
  {
   "cell_type": "code",
   "execution_count": 535,
   "id": "d548b859",
   "metadata": {},
   "outputs": [
    {
     "data": {
      "text/plain": [
       "<AxesSubplot:xlabel='DependentsOther', ylabel='count'>"
      ]
     },
     "execution_count": 535,
     "metadata": {},
     "output_type": "execute_result"
    },
    {
     "data": {
      "image/png": "[encoded data removed]",
      "text/plain": [
       "<Figure size 432x288 with 1 Axes>"
      ]
     },
     "metadata": {
      "needs_background": "light"
     },
     "output_type": "display_data"
    }
   ],
   "source": [
    "sns.countplot(x = 'DependentsOther', data = df)"
   ]
  },
  {
   "cell_type": "code",
   "execution_count": 536,
   "id": "b320db65",
   "metadata": {},
   "outputs": [
    {
     "data": {
      "text/plain": [
       "0.0    99.120964\n",
       "1.0     0.820986\n",
       "2.0     0.041464\n",
       "3.0     0.016586\n",
       "Name: DependentsOther, dtype: float64"
      ]
     },
     "execution_count": 536,
     "metadata": {},
     "output_type": "execute_result"
    }
   ],
   "source": [
    "df['DependentsOther'].value_counts(normalize=True)*100"
   ]
  },
  {
   "cell_type": "markdown",
   "id": "144743bb",
   "metadata": {},
   "source": [
    "##### The claims made from people with no dependents is high (Almost 99%)."
   ]
  },
  {
   "cell_type": "code",
   "execution_count": 537,
   "id": "5cce0949",
   "metadata": {},
   "outputs": [
    {
     "name": "stderr",
     "output_type": "stream",
     "text": [
      "C:\\Users\\SARAH\\anaconda3\\lib\\site-packages\\seaborn\\distributions.py:2557: FutureWarning: `distplot` is a deprecated function and will be removed in a future version. Please adapt your code to use either `displot` (a figure-level function with similar flexibility) or `histplot` (an axes-level function for histograms).\n",
      "  warnings.warn(msg, FutureWarning)\n"
     ]
    },
    {
     "data": {
      "text/plain": [
       "<AxesSubplot:xlabel='HoursWorkedPerWeek', ylabel='Density'>"
      ]
     },
     "execution_count": 537,
     "metadata": {},
     "output_type": "execute_result"
    },
    {
     "data": {
      "image/png": "[encoded data removed]",
      "text/plain": [
       "<Figure size 432x288 with 1 Axes>"
      ]
     },
     "metadata": {
      "needs_background": "light"
     },
     "output_type": "display_data"
    }
   ],
   "source": [
    "df['HoursWorkedPerWeek'].hist(bins=50)\n",
    "sns.distplot(df['HoursWorkedPerWeek'])"
   ]
  },
  {
   "cell_type": "markdown",
   "id": "b8c362ac",
   "metadata": {},
   "source": [
    "##### The data for HoursWorkedPerWeek is positively skewed."
   ]
  },
  {
   "cell_type": "code",
   "execution_count": 538,
   "id": "cac1e7d3",
   "metadata": {},
   "outputs": [
    {
     "data": {
      "text/plain": [
       "<AxesSubplot:xlabel='DaysWorkedPerWeek', ylabel='count'>"
      ]
     },
     "execution_count": 538,
     "metadata": {},
     "output_type": "execute_result"
    },
    {
     "data": {
      "image/png": "[encoded data removed]",
      "text/plain": [
       "<Figure size 432x288 with 1 Axes>"
      ]
     },
     "metadata": {
      "needs_background": "light"
     },
     "output_type": "display_data"
    }
   ],
   "source": [
    "sns.countplot(x = 'DaysWorkedPerWeek', data = df)"
   ]
  },
  {
   "cell_type": "code",
   "execution_count": 539,
   "id": "c8915a64",
   "metadata": {},
   "outputs": [
    {
     "data": {
      "text/plain": [
       "5.0    91.209642\n",
       "4.0     2.750442\n",
       "3.0     2.642636\n",
       "6.0     1.561809\n",
       "2.0     0.928793\n",
       "7.0     0.577731\n",
       "1.0     0.328947\n",
       "Name: DaysWorkedPerWeek, dtype: float64"
      ]
     },
     "execution_count": 539,
     "metadata": {},
     "output_type": "execute_result"
    }
   ],
   "source": [
    "df['DaysWorkedPerWeek'].value_counts(normalize=True)*100"
   ]
  },
  {
   "cell_type": "markdown",
   "id": "5abe5221",
   "metadata": {},
   "source": [
    "##### From the above plot we can see that 91% of the people who have claimed for insurance work for 5 days a week. "
   ]
  },
  {
   "cell_type": "code",
   "execution_count": 540,
   "id": "d4143113",
   "metadata": {},
   "outputs": [
    {
     "data": {
      "text/plain": [
       "<AxesSubplot:xlabel='Gender', ylabel='count'>"
      ]
     },
     "execution_count": 540,
     "metadata": {},
     "output_type": "execute_result"
    },
    {
     "data": {
      "image/png": "[encoded data removed]",
      "text/plain": [
       "<Figure size 432x288 with 1 Axes>"
      ]
     },
     "metadata": {
      "needs_background": "light"
     },
     "output_type": "display_data"
    }
   ],
   "source": [
    "sns.countplot(x = 'Gender', data = df)"
   ]
  },
  {
   "cell_type": "code",
   "execution_count": 541,
   "id": "4bb1ab54",
   "metadata": {},
   "outputs": [
    {
     "data": {
      "text/plain": [
       "M    77.175475\n",
       "F    22.821760\n",
       "U     0.002764\n",
       "Name: Gender, dtype: float64"
      ]
     },
     "execution_count": 541,
     "metadata": {},
     "output_type": "execute_result"
    }
   ],
   "source": [
    "df['Gender'].value_counts(normalize=True)*100"
   ]
  },
  {
   "cell_type": "markdown",
   "id": "b42c8a94",
   "metadata": {},
   "source": [
    "##### From the above plot we can see approximately 77% people who claimed for insurance are males while 22% are females."
   ]
  },
  {
   "cell_type": "code",
   "execution_count": 542,
   "id": "502971fa",
   "metadata": {},
   "outputs": [
    {
     "data": {
      "text/plain": [
       "<AxesSubplot:xlabel='MaritalStatus', ylabel='count'>"
      ]
     },
     "execution_count": 542,
     "metadata": {},
     "output_type": "execute_result"
    },
    {
     "data": {
      "image/png": "[encoded data removed]",
      "text/plain": [
       "<Figure size 432x288 with 1 Axes>"
      ]
     },
     "metadata": {
      "needs_background": "light"
     },
     "output_type": "display_data"
    }
   ],
   "source": [
    "sns.countplot(x = 'MaritalStatus', data = df)"
   ]
  },
  {
   "cell_type": "code",
   "execution_count": 543,
   "id": "eb515b2a",
   "metadata": {},
   "outputs": [
    {
     "data": {
      "text/plain": [
       "S    48.297214\n",
       "M    41.911765\n",
       "U     9.791022\n",
       "Name: MaritalStatus, dtype: float64"
      ]
     },
     "execution_count": 543,
     "metadata": {},
     "output_type": "execute_result"
    }
   ],
   "source": [
    "df['MaritalStatus'].value_counts(normalize=True)*100"
   ]
  },
  {
   "cell_type": "markdown",
   "id": "a378c6c4",
   "metadata": {},
   "source": [
    "##### From the above plot we can see approximately 48% people who claimed for insurance are single while 41% are married and a very small percentage of people are unmarried."
   ]
  },
  {
   "cell_type": "code",
   "execution_count": 544,
   "id": "121799ef",
   "metadata": {},
   "outputs": [
    {
     "data": {
      "text/plain": [
       "<AxesSubplot:xlabel='PartTimeFullTime', ylabel='count'>"
      ]
     },
     "execution_count": 544,
     "metadata": {},
     "output_type": "execute_result"
    },
    {
     "data": {
      "image/png": "[encoded data removed]",
      "text/plain": [
       "<Figure size 432x288 with 1 Axes>"
      ]
     },
     "metadata": {
      "needs_background": "light"
     },
     "output_type": "display_data"
    }
   ],
   "source": [
    "sns.countplot(x = 'PartTimeFullTime', data = df)"
   ]
  },
  {
   "cell_type": "code",
   "execution_count": 545,
   "id": "8a98dd5f",
   "metadata": {},
   "outputs": [
    {
     "data": {
      "text/plain": [
       "F    90.991265\n",
       "P     9.008735\n",
       "Name: PartTimeFullTime, dtype: float64"
      ]
     },
     "execution_count": 545,
     "metadata": {},
     "output_type": "execute_result"
    }
   ],
   "source": [
    "df['PartTimeFullTime'].value_counts(normalize=True)*100"
   ]
  },
  {
   "cell_type": "markdown",
   "id": "acc95b44",
   "metadata": {},
   "source": [
    "##### From the above plot we can see approximately 91% of the people hold full time jobs."
   ]
  },
  {
   "cell_type": "code",
   "execution_count": 546,
   "id": "dd632b93",
   "metadata": {},
   "outputs": [
    {
     "data": {
      "text/plain": [
       "<AxesSubplot:xlabel='WeeklyWages_Bin', ylabel='count'>"
      ]
     },
     "execution_count": 546,
     "metadata": {},
     "output_type": "execute_result"
    },
    {
     "data": {
      "image/png": "[encoded data removed]",
      "text/plain": [
       "<Figure size 720x360 with 1 Axes>"
      ]
     },
     "metadata": {
      "needs_background": "light"
     },
     "output_type": "display_data"
    }
   ],
   "source": [
    "plt.figure(figsize=(10,5))\n",
    "sns.countplot(x = 'WeeklyWages_Bin', data = df)"
   ]
  },
  {
   "cell_type": "code",
   "execution_count": 547,
   "id": "7e683a51",
   "metadata": {},
   "outputs": [
    {
     "data": {
      "text/plain": [
       "Low              97.910217\n",
       "Below Average     1.973684\n",
       "Average Wage      0.105042\n",
       "Above Average     0.008293\n",
       "High              0.002764\n",
       "Name: WeeklyWages_Bin, dtype: float64"
      ]
     },
     "execution_count": 547,
     "metadata": {},
     "output_type": "execute_result"
    }
   ],
   "source": [
    "df['WeeklyWages_Bin'].value_counts(normalize=True)*100"
   ]
  },
  {
   "cell_type": "markdown",
   "id": "3868ad63",
   "metadata": {},
   "source": [
    "##### From the above plot we can see that most of the people who claimed for insurance have low wages "
   ]
  },
  {
   "cell_type": "markdown",
   "id": "37eda331",
   "metadata": {},
   "source": [
    "## Bivariate analysis"
   ]
  },
  {
   "cell_type": "code",
   "execution_count": 548,
   "id": "31dd93fa",
   "metadata": {},
   "outputs": [
    {
     "data": {
      "text/plain": [
       "<AxesSubplot:xlabel='Age_Bin', ylabel='UltimateIncurredClaimCost'>"
      ]
     },
     "execution_count": 548,
     "metadata": {},
     "output_type": "execute_result"
    },
    {
     "data": {
      "image/png": "[encoded data removed]",
      "text/plain": [
       "<Figure size 432x288 with 1 Axes>"
      ]
     },
     "metadata": {
      "needs_background": "light"
     },
     "output_type": "display_data"
    }
   ],
   "source": [
    "sns.barplot(x='Age_Bin',y='UltimateIncurredClaimCost',data=df)"
   ]
  },
  {
   "cell_type": "markdown",
   "id": "671df164",
   "metadata": {},
   "source": [
    "##### People who are in the old age group (50-80) got more total claims payments by the insurance company. "
   ]
  },
  {
   "cell_type": "code",
   "execution_count": 549,
   "id": "74c369ad",
   "metadata": {},
   "outputs": [
    {
     "data": {
      "text/plain": [
       "<AxesSubplot:xlabel='DependentChildren', ylabel='UltimateIncurredClaimCost'>"
      ]
     },
     "execution_count": 549,
     "metadata": {},
     "output_type": "execute_result"
    },
    {
     "data": {
      "image/png": "[encoded data removed]",
      "text/plain": [
       "<Figure size 432x288 with 1 Axes>"
      ]
     },
     "metadata": {
      "needs_background": "light"
     },
     "output_type": "display_data"
    }
   ],
   "source": [
    "#plt.figure(figsize=(10,5))\n",
    "sns.barplot(x='DependentChildren',y='UltimateIncurredClaimCost',data=df)\n",
    "#plt.show()"
   ]
  },
  {
   "cell_type": "markdown",
   "id": "92791dd9",
   "metadata": {},
   "source": [
    "##### People who have more children as dependents got more insurance payments from the insurance company."
   ]
  },
  {
   "cell_type": "code",
   "execution_count": 550,
   "id": "eb8ba1ba",
   "metadata": {},
   "outputs": [
    {
     "data": {
      "text/plain": [
       "<AxesSubplot:xlabel='DependentsOther', ylabel='UltimateIncurredClaimCost'>"
      ]
     },
     "execution_count": 550,
     "metadata": {},
     "output_type": "execute_result"
    },
    {
     "data": {
      "image/png": "[encoded data removed]",
      "text/plain": [
       "<Figure size 432x288 with 1 Axes>"
      ]
     },
     "metadata": {
      "needs_background": "light"
     },
     "output_type": "display_data"
    }
   ],
   "source": [
    "sns.barplot(x='DependentsOther',y='UltimateIncurredClaimCost',data=df)"
   ]
  },
  {
   "cell_type": "code",
   "execution_count": 551,
   "id": "f14cc620",
   "metadata": {},
   "outputs": [
    {
     "data": {
      "text/plain": [
       "<AxesSubplot:xlabel='WeeklyWages_Bin', ylabel='InitialIncurredCalimsCost'>"
      ]
     },
     "execution_count": 551,
     "metadata": {},
     "output_type": "execute_result"
    },
    {
     "data": {
      "image/png": "[encoded data removed]",
      "text/plain": [
       "<Figure size 720x360 with 1 Axes>"
      ]
     },
     "metadata": {
      "needs_background": "light"
     },
     "output_type": "display_data"
    }
   ],
   "source": [
    "plt.figure(figsize=(10,5))\n",
    "sns.barplot(x='WeeklyWages_Bin',y='InitialIncurredCalimsCost',data=df)"
   ]
  },
  {
   "cell_type": "markdown",
   "id": "dbb6cdc0",
   "metadata": {},
   "source": [
    "##### People whose wages are above average claimed for more claim cost. "
   ]
  },
  {
   "cell_type": "code",
   "execution_count": 552,
   "id": "94bf08c4",
   "metadata": {
    "scrolled": true
   },
   "outputs": [
    {
     "data": {
      "text/plain": [
       "<AxesSubplot:xlabel='WeeklyWages_Bin', ylabel='UltimateIncurredClaimCost'>"
      ]
     },
     "execution_count": 552,
     "metadata": {},
     "output_type": "execute_result"
    },
    {
     "data": {
      "image/png": "[encoded data removed]",
      "text/plain": [
       "<Figure size 720x360 with 1 Axes>"
      ]
     },
     "metadata": {
      "needs_background": "light"
     },
     "output_type": "display_data"
    }
   ],
   "source": [
    "plt.figure(figsize=(10,5))\n",
    "sns.barplot(x='WeeklyWages_Bin',y='UltimateIncurredClaimCost',data=df)"
   ]
  },
  {
   "cell_type": "markdown",
   "id": "081c25bf",
   "metadata": {},
   "source": [
    "##### People who's wages are below average and above average got more total claims payments by the insurance company."
   ]
  },
  {
   "cell_type": "code",
   "execution_count": 553,
   "id": "35be0c48",
   "metadata": {},
   "outputs": [
    {
     "data": {
      "text/plain": [
       "<AxesSubplot:xlabel='DaysWorkedPerWeek', ylabel='UltimateIncurredClaimCost'>"
      ]
     },
     "execution_count": 553,
     "metadata": {},
     "output_type": "execute_result"
    },
    {
     "data": {
      "image/png": "[encoded data removed]",
      "text/plain": [
       "<Figure size 720x360 with 1 Axes>"
      ]
     },
     "metadata": {
      "needs_background": "light"
     },
     "output_type": "display_data"
    }
   ],
   "source": [
    "plt.figure(figsize=(10,5))\n",
    "sns.barplot(x='DaysWorkedPerWeek',y='UltimateIncurredClaimCost',data=df)"
   ]
  },
  {
   "cell_type": "code",
   "execution_count": 554,
   "id": "fef3b8ac",
   "metadata": {},
   "outputs": [
    {
     "data": {
      "text/html": [
       "<div>\n",
       "<style scoped>\n",
       "    .dataframe tbody tr th:only-of-type {\n",
       "        vertical-align: middle;\n",
       "    }\n",
       "\n",
       "    .dataframe tbody tr th {\n",
       "        vertical-align: top;\n",
       "    }\n",
       "\n",
       "    .dataframe thead th {\n",
       "        text-align: right;\n",
       "    }\n",
       "</style>\n",
       "<table border=\"1\" class=\"dataframe\">\n",
       "  <thead>\n",
       "    <tr style=\"text-align: right;\">\n",
       "      <th></th>\n",
       "      <th>ClaimNumber</th>\n",
       "      <th>DateTimeOfAccident</th>\n",
       "      <th>DateReported</th>\n",
       "      <th>Age</th>\n",
       "      <th>Gender</th>\n",
       "      <th>MaritalStatus</th>\n",
       "      <th>DependentChildren</th>\n",
       "      <th>DependentsOther</th>\n",
       "      <th>PartTimeFullTime</th>\n",
       "      <th>ClaimDescription</th>\n",
       "      <th>InitialIncurredCalimsCost</th>\n",
       "      <th>UltimateIncurredClaimCost</th>\n",
       "    </tr>\n",
       "  </thead>\n",
       "  <tbody>\n",
       "    <tr>\n",
       "      <th>1</th>\n",
       "      <td>WC8205482</td>\n",
       "      <td>2002-04-09T07:00:00Z</td>\n",
       "      <td>2002-07-05T00:00:00Z</td>\n",
       "      <td>48</td>\n",
       "      <td>M</td>\n",
       "      <td>M</td>\n",
       "      <td>0</td>\n",
       "      <td>0.0</td>\n",
       "      <td>F</td>\n",
       "      <td>LIFTING TYRE INJURY TO RIGHT ARM AND WRIST INJURY</td>\n",
       "      <td>1500</td>\n",
       "      <td>4748.203388</td>\n",
       "    </tr>\n",
       "    <tr>\n",
       "      <th>2</th>\n",
       "      <td>WC6922469</td>\n",
       "      <td>1999-01-07T11:00:00Z</td>\n",
       "      <td>1999-01-20T00:00:00Z</td>\n",
       "      <td>43</td>\n",
       "      <td>F</td>\n",
       "      <td>M</td>\n",
       "      <td>0</td>\n",
       "      <td>0.0</td>\n",
       "      <td>F</td>\n",
       "      <td>STEPPED AROUND CRATES AND TRUCK TRAY FRACTURE ...</td>\n",
       "      <td>5500</td>\n",
       "      <td>6326.285819</td>\n",
       "    </tr>\n",
       "    <tr>\n",
       "      <th>3</th>\n",
       "      <td>WC5442654</td>\n",
       "      <td>1996-03-25T00:00:00Z</td>\n",
       "      <td>1996-04-14T00:00:00Z</td>\n",
       "      <td>30</td>\n",
       "      <td>M</td>\n",
       "      <td>U</td>\n",
       "      <td>0</td>\n",
       "      <td>0.0</td>\n",
       "      <td>F</td>\n",
       "      <td>CUT ON SHARP EDGE CUT LEFT THUMB</td>\n",
       "      <td>1700</td>\n",
       "      <td>2293.949087</td>\n",
       "    </tr>\n",
       "    <tr>\n",
       "      <th>4</th>\n",
       "      <td>WC9796897</td>\n",
       "      <td>2005-06-22T13:00:00Z</td>\n",
       "      <td>2005-07-22T00:00:00Z</td>\n",
       "      <td>41</td>\n",
       "      <td>M</td>\n",
       "      <td>S</td>\n",
       "      <td>0</td>\n",
       "      <td>0.0</td>\n",
       "      <td>F</td>\n",
       "      <td>DIGGING LOWER BACK LOWER BACK STRAIN</td>\n",
       "      <td>15000</td>\n",
       "      <td>17786.487170</td>\n",
       "    </tr>\n",
       "    <tr>\n",
       "      <th>5</th>\n",
       "      <td>WC2603726</td>\n",
       "      <td>1990-08-29T08:00:00Z</td>\n",
       "      <td>1990-09-27T00:00:00Z</td>\n",
       "      <td>36</td>\n",
       "      <td>M</td>\n",
       "      <td>M</td>\n",
       "      <td>0</td>\n",
       "      <td>0.0</td>\n",
       "      <td>F</td>\n",
       "      <td>REACHING ABOVE SHOULDER LEVEL ACUTE MUSCLE STR...</td>\n",
       "      <td>2800</td>\n",
       "      <td>4014.002925</td>\n",
       "    </tr>\n",
       "  </tbody>\n",
       "</table>\n",
       "</div>"
      ],
      "text/plain": [
       "  ClaimNumber    DateTimeOfAccident          DateReported  Age Gender  \\\n",
       "1   WC8205482  2002-04-09T07:00:00Z  2002-07-05T00:00:00Z   48      M   \n",
       "2   WC6922469  1999-01-07T11:00:00Z  1999-01-20T00:00:00Z   43      F   \n",
       "3   WC5442654  1996-03-25T00:00:00Z  1996-04-14T00:00:00Z   30      M   \n",
       "4   WC9796897  2005-06-22T13:00:00Z  2005-07-22T00:00:00Z   41      M   \n",
       "5   WC2603726  1990-08-29T08:00:00Z  1990-09-27T00:00:00Z   36      M   \n",
       "\n",
       "  MaritalStatus  DependentChildren  DependentsOther PartTimeFullTime  \\\n",
       "1             M                  0              0.0                F   \n",
       "2             M                  0              0.0                F   \n",
       "3             U                  0              0.0                F   \n",
       "4             S                  0              0.0                F   \n",
       "5             M                  0              0.0                F   \n",
       "\n",
       "                                    ClaimDescription  \\\n",
       "1  LIFTING TYRE INJURY TO RIGHT ARM AND WRIST INJURY   \n",
       "2  STEPPED AROUND CRATES AND TRUCK TRAY FRACTURE ...   \n",
       "3                   CUT ON SHARP EDGE CUT LEFT THUMB   \n",
       "4               DIGGING LOWER BACK LOWER BACK STRAIN   \n",
       "5  REACHING ABOVE SHOULDER LEVEL ACUTE MUSCLE STR...   \n",
       "\n",
       "   InitialIncurredCalimsCost  UltimateIncurredClaimCost  \n",
       "1                       1500                4748.203388  \n",
       "2                       5500                6326.285819  \n",
       "3                       1700                2293.949087  \n",
       "4                      15000               17786.487170  \n",
       "5                       2800                4014.002925  "
      ]
     },
     "execution_count": 554,
     "metadata": {},
     "output_type": "execute_result"
    }
   ],
   "source": [
    "df_drop=df.drop(columns=['WeeklyWages', 'WeeklyWages_Bin','HoursWorkedPerWeek','DaysWorkedPerWeek','Age_Bin'])\n",
    "df_drop.head()"
   ]
  },
  {
   "cell_type": "code",
   "execution_count": 555,
   "id": "54640643",
   "metadata": {},
   "outputs": [
    {
     "data": {
      "image/png": "[encoded data removed]",
      "text/plain": [
       "<Figure size 720x360 with 2 Axes>"
      ]
     },
     "metadata": {
      "needs_background": "light"
     },
     "output_type": "display_data"
    }
   ],
   "source": [
    "plt.figure(figsize=(10,5))\n",
    "sns.heatmap(df_drop[['ClaimNumber', 'DateTimeOfAccident', 'DateReported', 'Age', 'DependentChildren', \n",
    "       'DependentsOther','InitialIncurredCalimsCost', 'UltimateIncurredClaimCost', ]].corr(),annot=True)\n",
    "plt.show()"
   ]
  },
  {
   "cell_type": "markdown",
   "id": "03931518",
   "metadata": {},
   "source": [
    "##### There is no correlation among the numerical columns. "
   ]
  },
  {
   "cell_type": "code",
   "execution_count": 556,
   "id": "cb397a78",
   "metadata": {},
   "outputs": [
    {
     "data": {
      "text/plain": [
       "<AxesSubplot:xlabel='UltimateIncurredClaimCost', ylabel='Age_Bin'>"
      ]
     },
     "execution_count": 556,
     "metadata": {},
     "output_type": "execute_result"
    },
    {
     "data": {
      "image/png": "[encoded data removed]",
      "text/plain": [
       "<Figure size 720x360 with 1 Axes>"
      ]
     },
     "metadata": {
      "needs_background": "light"
     },
     "output_type": "display_data"
    }
   ],
   "source": [
    "plt.figure(figsize=(10,5))\n",
    "sns.boxplot(x='UltimateIncurredClaimCost', y='Age_Bin',data=df)"
   ]
  },
  {
   "cell_type": "markdown",
   "id": "299391ef",
   "metadata": {},
   "source": [
    "## Outlier Analysis"
   ]
  },
  {
   "cell_type": "code",
   "execution_count": 557,
   "id": "a31e7656",
   "metadata": {},
   "outputs": [
    {
     "data": {
      "text/plain": [
       "<AxesSubplot:>"
      ]
     },
     "execution_count": 557,
     "metadata": {},
     "output_type": "execute_result"
    },
    {
     "data": {
      "image/png": "[encoded data removed]",
      "text/plain": [
       "<Figure size 1440x360 with 1 Axes>"
      ]
     },
     "metadata": {
      "needs_background": "light"
     },
     "output_type": "display_data"
    }
   ],
   "source": [
    "plt.figure(figsize=(20,5))\n",
    "sns.boxplot(data=df_drop)"
   ]
  },
  {
   "cell_type": "code",
   "execution_count": 558,
   "id": "12adeb7c",
   "metadata": {},
   "outputs": [
    {
     "data": {
      "text/plain": [
       "(36176, 12)"
      ]
     },
     "execution_count": 558,
     "metadata": {},
     "output_type": "execute_result"
    }
   ],
   "source": [
    "df_drop.shape"
   ]
  },
  {
   "cell_type": "markdown",
   "id": "549bae30",
   "metadata": {},
   "source": [
    "##### From the above boxplot we can see that there are a lot of outliers in \"InitialIncurredCalimsCost\" and \"UltimateIncurredClaimCost\"."
   ]
  },
  {
   "cell_type": "code",
   "execution_count": 559,
   "id": "31dc59c0",
   "metadata": {},
   "outputs": [],
   "source": [
    "for i in range(4):\n",
    "\n",
    "    limit1=3*df_drop['InitialIncurredCalimsCost'].std()\n",
    "\n",
    "    lower_limit1=df_drop['InitialIncurredCalimsCost'].mean()-limit1\n",
    "    upper_limit1=df_drop['InitialIncurredCalimsCost'].mean()+limit1\n",
    "\n",
    "    df_drop=df_drop[(df_drop['InitialIncurredCalimsCost']>lower_limit1)&(df_drop['InitialIncurredCalimsCost']<upper_limit1)]\n",
    "\n",
    "    limit2=3*df_drop['UltimateIncurredClaimCost'].std()\n",
    "\n",
    "    lower_limit2=df_drop['UltimateIncurredClaimCost'].mean()-limit2\n",
    "    upper_limit2=df_drop['UltimateIncurredClaimCost'].mean()+limit2\n",
    "\n",
    "    df_drop=df_drop[(df_drop['UltimateIncurredClaimCost']>lower_limit2)&(df_drop['UltimateIncurredClaimCost']<upper_limit2)]"
   ]
  },
  {
   "cell_type": "code",
   "execution_count": 560,
   "id": "1313edad",
   "metadata": {},
   "outputs": [
    {
     "data": {
      "text/plain": [
       "<AxesSubplot:>"
      ]
     },
     "execution_count": 560,
     "metadata": {},
     "output_type": "execute_result"
    },
    {
     "data": {
      "image/png": "[encoded data removed]",
      "text/plain": [
       "<Figure size 1440x360 with 1 Axes>"
      ]
     },
     "metadata": {
      "needs_background": "light"
     },
     "output_type": "display_data"
    }
   ],
   "source": [
    "plt.figure(figsize=(20,5))\n",
    "sns.boxplot(data=df_drop)"
   ]
  },
  {
   "cell_type": "markdown",
   "id": "9b262344",
   "metadata": {},
   "source": [
    "## Machine Learning Model"
   ]
  },
  {
   "cell_type": "markdown",
   "id": "ea4b0fab",
   "metadata": {},
   "source": [
    "### Linear Regression Model"
   ]
  },
  {
   "cell_type": "markdown",
   "id": "05d6a41b",
   "metadata": {},
   "source": [
    "##### Importing the libraries for the modeling."
   ]
  },
  {
   "cell_type": "code",
   "execution_count": 561,
   "id": "46bf624e",
   "metadata": {},
   "outputs": [],
   "source": [
    "from sklearn.linear_model import LinearRegression\n",
    "import sklearn.preprocessing as pre\n",
    "from sklearn.preprocessing import LabelEncoder\n",
    "from sklearn.model_selection import train_test_split\n",
    "le=pre.LabelEncoder()\n",
    "from sklearn.metrics import r2_score"
   ]
  },
  {
   "cell_type": "code",
   "execution_count": 562,
   "id": "f0608de0",
   "metadata": {},
   "outputs": [],
   "source": [
    "for x in df.select_dtypes(include='object').columns:\n",
    "    df[x]=le.fit_transform(df[x])"
   ]
  },
  {
   "cell_type": "code",
   "execution_count": 566,
   "id": "59eec24c",
   "metadata": {},
   "outputs": [],
   "source": [
    "X_scale=df_drop.drop(['UltimateIncurredClaimCost'],axis='columns')\n",
    "cat_df=X_scale.select_dtypes(exclude=[float,int]).columns\n",
    "for i in cat_df :\n",
    "    X_scale[str(i)]=le.fit_transform(X_scale[str(i)])\n",
    "X_scale=X_scale.apply(pre.minmax_scale)\n",
    "Y=df_drop['UltimateIncurredClaimCost']"
   ]
  },
  {
   "cell_type": "code",
   "execution_count": 568,
   "id": "f23e9d4e",
   "metadata": {},
   "outputs": [],
   "source": [
    "#Splitting the data into test and train data\n",
    "x_train,x_test,y_train,y_test=train_test_split(X_scale,Y,test_size=0.3,random_state=1234456)"
   ]
  },
  {
   "cell_type": "code",
   "execution_count": 569,
   "id": "e38002d2",
   "metadata": {},
   "outputs": [
    {
     "data": {
      "text/plain": [
       "((21375, 11), (9162, 11), (21375,), (9162,))"
      ]
     },
     "execution_count": 569,
     "metadata": {},
     "output_type": "execute_result"
    }
   ],
   "source": [
    "#checking the shape of the test and train set\n",
    "x_train.shape,x_test.shape,y_train.shape,y_test.shape"
   ]
  },
  {
   "cell_type": "code",
   "execution_count": 570,
   "id": "ff793f05",
   "metadata": {},
   "outputs": [],
   "source": [
    "import sklearn.linear_model as lm"
   ]
  },
  {
   "cell_type": "code",
   "execution_count": 571,
   "id": "ccdc3bc2",
   "metadata": {},
   "outputs": [],
   "source": [
    "#creating the linear regression model\n",
    "glm=lm.LinearRegression()"
   ]
  },
  {
   "cell_type": "code",
   "execution_count": 572,
   "id": "b46f759a",
   "metadata": {},
   "outputs": [
    {
     "data": {
      "text/plain": [
       "LinearRegression()"
      ]
     },
     "execution_count": 572,
     "metadata": {},
     "output_type": "execute_result"
    }
   ],
   "source": [
    "#Fitting the model\n",
    "glm.fit(x_train,y_train)"
   ]
  },
  {
   "cell_type": "code",
   "execution_count": 573,
   "id": "919857c3",
   "metadata": {},
   "outputs": [
    {
     "data": {
      "text/plain": [
       "0.6843082534817189"
      ]
     },
     "execution_count": 573,
     "metadata": {},
     "output_type": "execute_result"
    }
   ],
   "source": [
    "#Checking the test score\n",
    "glm.score(x_test,y_test)"
   ]
  },
  {
   "cell_type": "code",
   "execution_count": 574,
   "id": "f49952e2",
   "metadata": {},
   "outputs": [
    {
     "data": {
      "text/plain": [
       "0.675893459943423"
      ]
     },
     "execution_count": 574,
     "metadata": {},
     "output_type": "execute_result"
    }
   ],
   "source": [
    "#Checking the train score\n",
    "glm.score(x_train,y_train)"
   ]
  },
  {
   "cell_type": "code",
   "execution_count": 575,
   "id": "41d04b6d",
   "metadata": {},
   "outputs": [
    {
     "name": "stdout",
     "output_type": "stream",
     "text": [
      "R^2 is: \n",
      " 0.6843082534817189\n"
     ]
    }
   ],
   "source": [
    "# Checking the R square value\n",
    "print (\"R^2 is: \\n\", glm.score(x_test, y_test))"
   ]
  },
  {
   "cell_type": "code",
   "execution_count": 576,
   "id": "09badc93",
   "metadata": {},
   "outputs": [],
   "source": [
    "#Predictions on the test data set.\n",
    "y_pred = glm.predict(x_test)"
   ]
  },
  {
   "cell_type": "code",
   "execution_count": 577,
   "id": "8520c6f8",
   "metadata": {},
   "outputs": [
    {
     "name": "stdout",
     "output_type": "stream",
     "text": [
      "RMSE is: \n",
      " 1922.2047645481468\n"
     ]
    }
   ],
   "source": [
    "# Checking the RMSE score\n",
    "from sklearn.metrics import mean_squared_error\n",
    "print ('RMSE is: \\n', mean_squared_error(y_test, y_pred,squared=False))"
   ]
  },
  {
   "cell_type": "code",
   "execution_count": 578,
   "id": "1fad3614",
   "metadata": {},
   "outputs": [
    {
     "data": {
      "image/png": "[encoded data removed]",
      "text/plain": [
       "<Figure size 432x288 with 1 Axes>"
      ]
     },
     "metadata": {
      "needs_background": "light"
     },
     "output_type": "display_data"
    }
   ],
   "source": [
    "#Plotting the scatter plot between the predicted value and the actual values\n",
    "actual_values = y_test\n",
    "plt.scatter(y_pred, actual_values, alpha=.7,\n",
    "            color='g')\n",
    "plt.xlabel('Predicted Value')\n",
    "plt.ylabel('Actual Value')\n",
    "plt.title('Linear Regression Model')\n",
    "plt.show()"
   ]
  },
  {
   "cell_type": "markdown",
   "id": "97f3c750",
   "metadata": {},
   "source": [
    "### Decision tree regressor"
   ]
  },
  {
   "cell_type": "code",
   "execution_count": 579,
   "id": "f5e8784c",
   "metadata": {},
   "outputs": [],
   "source": [
    "#Importing the decision tree regressor\n",
    "from sklearn.tree import DecisionTreeRegressor"
   ]
  },
  {
   "cell_type": "code",
   "execution_count": 580,
   "id": "5f2b1274",
   "metadata": {},
   "outputs": [],
   "source": [
    "# creating the model\n",
    "dt= DecisionTreeRegressor()"
   ]
  },
  {
   "cell_type": "code",
   "execution_count": 581,
   "id": "65c7141c",
   "metadata": {},
   "outputs": [
    {
     "data": {
      "text/plain": [
       "DecisionTreeRegressor()"
      ]
     },
     "execution_count": 581,
     "metadata": {},
     "output_type": "execute_result"
    }
   ],
   "source": [
    "#Fitting the data \n",
    "dt.fit(x_train, y_train)"
   ]
  },
  {
   "cell_type": "code",
   "execution_count": 582,
   "id": "e3e80a0a",
   "metadata": {},
   "outputs": [],
   "source": [
    "# predicting the test set results\n",
    "y_pred1= dt.predict(x_test)"
   ]
  },
  {
   "cell_type": "code",
   "execution_count": 583,
   "id": "e51cc006",
   "metadata": {},
   "outputs": [
    {
     "name": "stdout",
     "output_type": "stream",
     "text": [
      "R^2 is: \n",
      " 0.4943056456422932\n"
     ]
    }
   ],
   "source": [
    "# Calculating the r2 score\n",
    "print (\"R^2 is: \\n\", dt.score(x_test, y_test))"
   ]
  },
  {
   "cell_type": "code",
   "execution_count": 584,
   "id": "3363d6c0",
   "metadata": {
    "scrolled": true
   },
   "outputs": [
    {
     "name": "stdout",
     "output_type": "stream",
     "text": [
      "RMSE is: \n",
      " 2432.8318232463826\n"
     ]
    }
   ],
   "source": [
    "#Checking the RMSE value\n",
    "from sklearn.metrics import mean_squared_error\n",
    "print ('RMSE is: \\n', mean_squared_error(y_test, y_pred1,squared=False))"
   ]
  },
  {
   "cell_type": "markdown",
   "id": "2c6212eb",
   "metadata": {},
   "source": [
    "### Random Forest Regressor "
   ]
  },
  {
   "cell_type": "code",
   "execution_count": 585,
   "id": "28ccb0e0",
   "metadata": {},
   "outputs": [
    {
     "data": {
      "text/plain": [
       "RandomForestRegressor(n_estimators=10, random_state=0)"
      ]
     },
     "execution_count": 585,
     "metadata": {},
     "output_type": "execute_result"
    }
   ],
   "source": [
    "from sklearn.ensemble import RandomForestRegressor\n",
    "rf = RandomForestRegressor(n_estimators = 10, random_state = 0)\n",
    "rf.fit(x_train, y_train)"
   ]
  },
  {
   "cell_type": "code",
   "execution_count": 586,
   "id": "9ccd9f8c",
   "metadata": {},
   "outputs": [
    {
     "data": {
      "text/plain": [
       "0.7235396977686221"
      ]
     },
     "execution_count": 586,
     "metadata": {},
     "output_type": "execute_result"
    }
   ],
   "source": [
    "#checking the test score\n",
    "rf.score(x_test,y_test)"
   ]
  },
  {
   "cell_type": "code",
   "execution_count": 587,
   "id": "89444ccf",
   "metadata": {},
   "outputs": [
    {
     "data": {
      "text/plain": [
       "0.9503709135164683"
      ]
     },
     "execution_count": 587,
     "metadata": {},
     "output_type": "execute_result"
    }
   ],
   "source": [
    "#Checking the train score\n",
    "rf.score(x_train,y_train)"
   ]
  },
  {
   "cell_type": "code",
   "execution_count": 588,
   "id": "7efdbe5b",
   "metadata": {},
   "outputs": [
    {
     "name": "stdout",
     "output_type": "stream",
     "text": [
      "R^2 is: \n",
      " 0.7235396977686221\n"
     ]
    }
   ],
   "source": [
    "#Checking the r2 score\n",
    "print (\"R^2 is: \\n\", rf.score(x_test, y_test))"
   ]
  },
  {
   "cell_type": "code",
   "execution_count": 589,
   "id": "0828649e",
   "metadata": {
    "scrolled": true
   },
   "outputs": [
    {
     "name": "stdout",
     "output_type": "stream",
     "text": [
      "RMSE is: \n",
      " 1798.8064026916988\n"
     ]
    }
   ],
   "source": [
    "#checking the predicted value\n",
    "y_pred2= rf.predict(x_test)\n",
    "print ('RMSE is: \\n', mean_squared_error(y_test, y_pred2,squared=False))"
   ]
  },
  {
   "cell_type": "markdown",
   "id": "008ba62e",
   "metadata": {},
   "source": [
    "### Working on Test Data"
   ]
  },
  {
   "cell_type": "code",
   "execution_count": 591,
   "id": "7a80e29b",
   "metadata": {},
   "outputs": [],
   "source": [
    "df1=pd.read_csv(\"Test_SJC.csv\")"
   ]
  },
  {
   "cell_type": "code",
   "execution_count": 592,
   "id": "81433beb",
   "metadata": {},
   "outputs": [
    {
     "name": "stdout",
     "output_type": "stream",
     "text": [
      "<class 'pandas.core.frame.DataFrame'>\n",
      "RangeIndex: 17824 entries, 0 to 17823\n",
      "Data columns (total 14 columns):\n",
      " #   Column                     Non-Null Count  Dtype  \n",
      "---  ------                     --------------  -----  \n",
      " 0   ClaimNumber                17824 non-null  object \n",
      " 1   DateTimeOfAccident         17824 non-null  object \n",
      " 2   DateReported               17824 non-null  object \n",
      " 3   Age                        17824 non-null  int64  \n",
      " 4   Gender                     17824 non-null  object \n",
      " 5   MaritalStatus              17817 non-null  object \n",
      " 6   DependentChildren          17824 non-null  int64  \n",
      " 7   DependentsOther            17824 non-null  int64  \n",
      " 8   WeeklyWages                17824 non-null  float64\n",
      " 9   PartTimeFullTime           17824 non-null  object \n",
      " 10  HoursWorkedPerWeek         17824 non-null  float64\n",
      " 11  DaysWorkedPerWeek          17824 non-null  int64  \n",
      " 12  ClaimDescription           17824 non-null  object \n",
      " 13  InitialIncurredCalimsCost  17824 non-null  int64  \n",
      "dtypes: float64(2), int64(5), object(7)\n",
      "memory usage: 1.9+ MB\n"
     ]
    }
   ],
   "source": [
    "#Checking information on test data\n",
    "df1.info()"
   ]
  },
  {
   "cell_type": "code",
   "execution_count": 593,
   "id": "7fab1e28",
   "metadata": {},
   "outputs": [
    {
     "data": {
      "text/html": [
       "<div>\n",
       "<style scoped>\n",
       "    .dataframe tbody tr th:only-of-type {\n",
       "        vertical-align: middle;\n",
       "    }\n",
       "\n",
       "    .dataframe tbody tr th {\n",
       "        vertical-align: top;\n",
       "    }\n",
       "\n",
       "    .dataframe thead th {\n",
       "        text-align: right;\n",
       "    }\n",
       "</style>\n",
       "<table border=\"1\" class=\"dataframe\">\n",
       "  <thead>\n",
       "    <tr style=\"text-align: right;\">\n",
       "      <th></th>\n",
       "      <th>Age</th>\n",
       "      <th>DependentChildren</th>\n",
       "      <th>DependentsOther</th>\n",
       "      <th>WeeklyWages</th>\n",
       "      <th>HoursWorkedPerWeek</th>\n",
       "      <th>DaysWorkedPerWeek</th>\n",
       "      <th>InitialIncurredCalimsCost</th>\n",
       "    </tr>\n",
       "  </thead>\n",
       "  <tbody>\n",
       "    <tr>\n",
       "      <th>count</th>\n",
       "      <td>17824.000000</td>\n",
       "      <td>17824.000000</td>\n",
       "      <td>17824.000000</td>\n",
       "      <td>17824.000000</td>\n",
       "      <td>17824.000000</td>\n",
       "      <td>17824.000000</td>\n",
       "      <td>1.782400e+04</td>\n",
       "    </tr>\n",
       "    <tr>\n",
       "      <th>mean</th>\n",
       "      <td>33.938117</td>\n",
       "      <td>0.114901</td>\n",
       "      <td>0.010772</td>\n",
       "      <td>416.177867</td>\n",
       "      <td>37.671636</td>\n",
       "      <td>4.905689</td>\n",
       "      <td>8.039140e+03</td>\n",
       "    </tr>\n",
       "    <tr>\n",
       "      <th>std</th>\n",
       "      <td>12.137019</td>\n",
       "      <td>0.501956</td>\n",
       "      <td>0.115541</td>\n",
       "      <td>258.188850</td>\n",
       "      <td>12.732846</td>\n",
       "      <td>0.562258</td>\n",
       "      <td>2.468988e+04</td>\n",
       "    </tr>\n",
       "    <tr>\n",
       "      <th>min</th>\n",
       "      <td>13.000000</td>\n",
       "      <td>0.000000</td>\n",
       "      <td>0.000000</td>\n",
       "      <td>1.000000</td>\n",
       "      <td>0.000000</td>\n",
       "      <td>1.000000</td>\n",
       "      <td>1.000000e+00</td>\n",
       "    </tr>\n",
       "    <tr>\n",
       "      <th>25%</th>\n",
       "      <td>24.000000</td>\n",
       "      <td>0.000000</td>\n",
       "      <td>0.000000</td>\n",
       "      <td>200.000000</td>\n",
       "      <td>38.000000</td>\n",
       "      <td>5.000000</td>\n",
       "      <td>7.000000e+02</td>\n",
       "    </tr>\n",
       "    <tr>\n",
       "      <th>50%</th>\n",
       "      <td>32.000000</td>\n",
       "      <td>0.000000</td>\n",
       "      <td>0.000000</td>\n",
       "      <td>390.000000</td>\n",
       "      <td>38.000000</td>\n",
       "      <td>5.000000</td>\n",
       "      <td>2.000000e+03</td>\n",
       "    </tr>\n",
       "    <tr>\n",
       "      <th>75%</th>\n",
       "      <td>43.000000</td>\n",
       "      <td>0.000000</td>\n",
       "      <td>0.000000</td>\n",
       "      <td>500.000000</td>\n",
       "      <td>40.000000</td>\n",
       "      <td>5.000000</td>\n",
       "      <td>9.500000e+03</td>\n",
       "    </tr>\n",
       "    <tr>\n",
       "      <th>max</th>\n",
       "      <td>81.000000</td>\n",
       "      <td>6.000000</td>\n",
       "      <td>5.000000</td>\n",
       "      <td>7497.000000</td>\n",
       "      <td>638.000000</td>\n",
       "      <td>7.000000</td>\n",
       "      <td>2.000000e+06</td>\n",
       "    </tr>\n",
       "  </tbody>\n",
       "</table>\n",
       "</div>"
      ],
      "text/plain": [
       "                Age  DependentChildren  DependentsOther   WeeklyWages  \\\n",
       "count  17824.000000       17824.000000     17824.000000  17824.000000   \n",
       "mean      33.938117           0.114901         0.010772    416.177867   \n",
       "std       12.137019           0.501956         0.115541    258.188850   \n",
       "min       13.000000           0.000000         0.000000      1.000000   \n",
       "25%       24.000000           0.000000         0.000000    200.000000   \n",
       "50%       32.000000           0.000000         0.000000    390.000000   \n",
       "75%       43.000000           0.000000         0.000000    500.000000   \n",
       "max       81.000000           6.000000         5.000000   7497.000000   \n",
       "\n",
       "       HoursWorkedPerWeek  DaysWorkedPerWeek  InitialIncurredCalimsCost  \n",
       "count        17824.000000       17824.000000               1.782400e+04  \n",
       "mean            37.671636           4.905689               8.039140e+03  \n",
       "std             12.732846           0.562258               2.468988e+04  \n",
       "min              0.000000           1.000000               1.000000e+00  \n",
       "25%             38.000000           5.000000               7.000000e+02  \n",
       "50%             38.000000           5.000000               2.000000e+03  \n",
       "75%             40.000000           5.000000               9.500000e+03  \n",
       "max            638.000000           7.000000               2.000000e+06  "
      ]
     },
     "execution_count": 593,
     "metadata": {},
     "output_type": "execute_result"
    }
   ],
   "source": [
    " #checking the description of test data\n",
    "df1.describe()"
   ]
  },
  {
   "cell_type": "code",
   "execution_count": 594,
   "id": "926c1eb6",
   "metadata": {},
   "outputs": [
    {
     "data": {
      "text/html": [
       "<div>\n",
       "<style scoped>\n",
       "    .dataframe tbody tr th:only-of-type {\n",
       "        vertical-align: middle;\n",
       "    }\n",
       "\n",
       "    .dataframe tbody tr th {\n",
       "        vertical-align: top;\n",
       "    }\n",
       "\n",
       "    .dataframe thead th {\n",
       "        text-align: right;\n",
       "    }\n",
       "</style>\n",
       "<table border=\"1\" class=\"dataframe\">\n",
       "  <thead>\n",
       "    <tr style=\"text-align: right;\">\n",
       "      <th></th>\n",
       "      <th>ClaimNumber</th>\n",
       "      <th>DateTimeOfAccident</th>\n",
       "      <th>DateReported</th>\n",
       "      <th>Age</th>\n",
       "      <th>Gender</th>\n",
       "      <th>MaritalStatus</th>\n",
       "      <th>DependentChildren</th>\n",
       "      <th>DependentsOther</th>\n",
       "      <th>WeeklyWages</th>\n",
       "      <th>PartTimeFullTime</th>\n",
       "      <th>HoursWorkedPerWeek</th>\n",
       "      <th>DaysWorkedPerWeek</th>\n",
       "      <th>ClaimDescription</th>\n",
       "      <th>InitialIncurredCalimsCost</th>\n",
       "    </tr>\n",
       "  </thead>\n",
       "  <tbody>\n",
       "    <tr>\n",
       "      <th>0</th>\n",
       "      <td>WC8476284</td>\n",
       "      <td>2002-04-19T16:00:00Z</td>\n",
       "      <td>2002-05-13T00:00:00Z</td>\n",
       "      <td>38</td>\n",
       "      <td>M</td>\n",
       "      <td>M</td>\n",
       "      <td>0</td>\n",
       "      <td>0</td>\n",
       "      <td>500.00</td>\n",
       "      <td>F</td>\n",
       "      <td>40.00</td>\n",
       "      <td>5</td>\n",
       "      <td>STRUCK VALVES ABRASIONS LEFT LEG LACERATED LEF...</td>\n",
       "      <td>1000</td>\n",
       "    </tr>\n",
       "    <tr>\n",
       "      <th>1</th>\n",
       "      <td>WC2445024</td>\n",
       "      <td>1989-09-26T08:00:00Z</td>\n",
       "      <td>1989-10-14T00:00:00Z</td>\n",
       "      <td>38</td>\n",
       "      <td>F</td>\n",
       "      <td>M</td>\n",
       "      <td>0</td>\n",
       "      <td>0</td>\n",
       "      <td>350.00</td>\n",
       "      <td>P</td>\n",
       "      <td>29.75</td>\n",
       "      <td>4</td>\n",
       "      <td>LIFTING PATIENT PAIN IN LOWER BACK LEG</td>\n",
       "      <td>3500</td>\n",
       "    </tr>\n",
       "    <tr>\n",
       "      <th>2</th>\n",
       "      <td>WC4566945</td>\n",
       "      <td>1994-05-02T13:00:00Z</td>\n",
       "      <td>1994-05-17T00:00:00Z</td>\n",
       "      <td>24</td>\n",
       "      <td>M</td>\n",
       "      <td>S</td>\n",
       "      <td>0</td>\n",
       "      <td>0</td>\n",
       "      <td>487.50</td>\n",
       "      <td>F</td>\n",
       "      <td>38.00</td>\n",
       "      <td>5</td>\n",
       "      <td>LIFTING BOXES LOWER BACK BACK INJURY</td>\n",
       "      <td>7500</td>\n",
       "    </tr>\n",
       "    <tr>\n",
       "      <th>3</th>\n",
       "      <td>WC9911299</td>\n",
       "      <td>2005-11-26T06:00:00Z</td>\n",
       "      <td>2006-01-07T00:00:00Z</td>\n",
       "      <td>21</td>\n",
       "      <td>M</td>\n",
       "      <td>S</td>\n",
       "      <td>0</td>\n",
       "      <td>0</td>\n",
       "      <td>431.62</td>\n",
       "      <td>F</td>\n",
       "      <td>40.00</td>\n",
       "      <td>5</td>\n",
       "      <td>STRUCK LADDER BRUISED RIGHT KNEE MUSCLE RIGHT</td>\n",
       "      <td>1000</td>\n",
       "    </tr>\n",
       "    <tr>\n",
       "      <th>4</th>\n",
       "      <td>WC9066190</td>\n",
       "      <td>2003-03-12T13:00:00Z</td>\n",
       "      <td>2003-04-10T00:00:00Z</td>\n",
       "      <td>32</td>\n",
       "      <td>M</td>\n",
       "      <td>M</td>\n",
       "      <td>3</td>\n",
       "      <td>0</td>\n",
       "      <td>480.50</td>\n",
       "      <td>F</td>\n",
       "      <td>38.00</td>\n",
       "      <td>5</td>\n",
       "      <td>FELL OFF LADDER FRACTURE RIGHT WRIST</td>\n",
       "      <td>111077</td>\n",
       "    </tr>\n",
       "  </tbody>\n",
       "</table>\n",
       "</div>"
      ],
      "text/plain": [
       "  ClaimNumber    DateTimeOfAccident          DateReported  Age Gender  \\\n",
       "0   WC8476284  2002-04-19T16:00:00Z  2002-05-13T00:00:00Z   38      M   \n",
       "1   WC2445024  1989-09-26T08:00:00Z  1989-10-14T00:00:00Z   38      F   \n",
       "2   WC4566945  1994-05-02T13:00:00Z  1994-05-17T00:00:00Z   24      M   \n",
       "3   WC9911299  2005-11-26T06:00:00Z  2006-01-07T00:00:00Z   21      M   \n",
       "4   WC9066190  2003-03-12T13:00:00Z  2003-04-10T00:00:00Z   32      M   \n",
       "\n",
       "  MaritalStatus  DependentChildren  DependentsOther  WeeklyWages  \\\n",
       "0             M                  0                0       500.00   \n",
       "1             M                  0                0       350.00   \n",
       "2             S                  0                0       487.50   \n",
       "3             S                  0                0       431.62   \n",
       "4             M                  3                0       480.50   \n",
       "\n",
       "  PartTimeFullTime  HoursWorkedPerWeek  DaysWorkedPerWeek  \\\n",
       "0                F               40.00                  5   \n",
       "1                P               29.75                  4   \n",
       "2                F               38.00                  5   \n",
       "3                F               40.00                  5   \n",
       "4                F               38.00                  5   \n",
       "\n",
       "                                    ClaimDescription  \\\n",
       "0  STRUCK VALVES ABRASIONS LEFT LEG LACERATED LEF...   \n",
       "1             LIFTING PATIENT PAIN IN LOWER BACK LEG   \n",
       "2               LIFTING BOXES LOWER BACK BACK INJURY   \n",
       "3      STRUCK LADDER BRUISED RIGHT KNEE MUSCLE RIGHT   \n",
       "4               FELL OFF LADDER FRACTURE RIGHT WRIST   \n",
       "\n",
       "   InitialIncurredCalimsCost  \n",
       "0                       1000  \n",
       "1                       3500  \n",
       "2                       7500  \n",
       "3                       1000  \n",
       "4                     111077  "
      ]
     },
     "execution_count": 594,
     "metadata": {},
     "output_type": "execute_result"
    }
   ],
   "source": [
    "#checking the test dataframe \n",
    "df1.head(5)"
   ]
  },
  {
   "cell_type": "code",
   "execution_count": 595,
   "id": "9e2c7154",
   "metadata": {},
   "outputs": [
    {
     "data": {
      "text/plain": [
       "(17824, 14)"
      ]
     },
     "execution_count": 595,
     "metadata": {},
     "output_type": "execute_result"
    }
   ],
   "source": [
    "#Checking the shape of test data \n",
    "df1.shape"
   ]
  },
  {
   "cell_type": "code",
   "execution_count": 596,
   "id": "89dfba88",
   "metadata": {},
   "outputs": [
    {
     "data": {
      "text/plain": [
       "0"
      ]
     },
     "execution_count": 596,
     "metadata": {},
     "output_type": "execute_result"
    }
   ],
   "source": [
    "#Checking for duplicate values\n",
    "df1.duplicated().sum() "
   ]
  },
  {
   "cell_type": "markdown",
   "id": "42e50eb7",
   "metadata": {},
   "source": [
    "##### There are no duplicate values"
   ]
  },
  {
   "cell_type": "code",
   "execution_count": 625,
   "id": "c31fe5af",
   "metadata": {},
   "outputs": [
    {
     "data": {
      "text/plain": [
       "ClaimNumber                  0\n",
       "DateTimeOfAccident           0\n",
       "DateReported                 0\n",
       "Age                          0\n",
       "Gender                       0\n",
       "MaritalStatus                0\n",
       "DependentChildren            0\n",
       "DependentsOther              0\n",
       "WeeklyWages                  0\n",
       "PartTimeFullTime             0\n",
       "HoursWorkedPerWeek           0\n",
       "DaysWorkedPerWeek            0\n",
       "ClaimDescription             0\n",
       "InitialIncurredCalimsCost    0\n",
       "Age_Bin                      1\n",
       "WeeklyWages_Bin              0\n",
       "dtype: int64"
      ]
     },
     "execution_count": 625,
     "metadata": {},
     "output_type": "execute_result"
    }
   ],
   "source": [
    "#Checking for the null values\n",
    "df1.isnull().sum()"
   ]
  },
  {
   "cell_type": "code",
   "execution_count": 626,
   "id": "8c260e0d",
   "metadata": {},
   "outputs": [],
   "source": [
    "#Missing Value Treatment using mode imputation\n",
    "df1['MaritalStatus']=df1['MaritalStatus'].fillna(df1['MaritalStatus'].mode()[0])"
   ]
  },
  {
   "cell_type": "code",
   "execution_count": 627,
   "id": "9ade1574",
   "metadata": {},
   "outputs": [
    {
     "data": {
      "text/plain": [
       "ClaimNumber                  0\n",
       "DateTimeOfAccident           0\n",
       "DateReported                 0\n",
       "Age                          0\n",
       "Gender                       0\n",
       "MaritalStatus                0\n",
       "DependentChildren            0\n",
       "DependentsOther              0\n",
       "WeeklyWages                  0\n",
       "PartTimeFullTime             0\n",
       "HoursWorkedPerWeek           0\n",
       "DaysWorkedPerWeek            0\n",
       "ClaimDescription             0\n",
       "InitialIncurredCalimsCost    0\n",
       "Age_Bin                      1\n",
       "WeeklyWages_Bin              0\n",
       "dtype: int64"
      ]
     },
     "execution_count": 627,
     "metadata": {},
     "output_type": "execute_result"
    }
   ],
   "source": [
    "#To verify if there are more missing values in the dataset\n",
    "df1.isnull().sum()"
   ]
  },
  {
   "cell_type": "markdown",
   "id": "a262b3a6",
   "metadata": {},
   "source": [
    "##### There are no missing values."
   ]
  },
  {
   "cell_type": "markdown",
   "id": "f880ed4f",
   "metadata": {},
   "source": [
    "### Data Transformation\n",
    "\n",
    "##### Data Binning"
   ]
  },
  {
   "cell_type": "code",
   "execution_count": 628,
   "id": "6282d9d7",
   "metadata": {},
   "outputs": [
    {
     "data": {
      "text/plain": [
       "0        Young\n",
       "1        Young\n",
       "2        Young\n",
       "3        Young\n",
       "4        Young\n",
       "         ...  \n",
       "17819    Young\n",
       "17820    Young\n",
       "17821    Young\n",
       "17822    Young\n",
       "17823    Young\n",
       "Name: Age_Bin, Length: 17824, dtype: category\n",
       "Categories (3, object): ['Young' < 'Middle-Age' < 'Old']"
      ]
     },
     "execution_count": 628,
     "metadata": {},
     "output_type": "execute_result"
    }
   ],
   "source": [
    "df1['Age_Bin']=pd.cut(df1['Age'],bins=[1,25,50,80] , labels=['Young','Middle-Age','Old'])\n",
    "df1['Age_Bin']"
   ]
  },
  {
   "cell_type": "code",
   "execution_count": 629,
   "id": "9e309cdc",
   "metadata": {},
   "outputs": [
    {
     "data": {
      "text/plain": [
       "0        Low\n",
       "1        Low\n",
       "2        Low\n",
       "3        Low\n",
       "4        Low\n",
       "        ... \n",
       "17819    Low\n",
       "17820    Low\n",
       "17821    Low\n",
       "17822    Low\n",
       "17823    Low\n",
       "Name: WeeklyWages_Bin, Length: 17824, dtype: category\n",
       "Categories (5, object): ['Low' < 'Below Average' < 'Average Wage' < 'Above Average' < 'High']"
      ]
     },
     "execution_count": 629,
     "metadata": {},
     "output_type": "execute_result"
    }
   ],
   "source": [
    "df1['WeeklyWages_Bin']=pd.cut(df1['WeeklyWages'],bins=[0,1000,2000,4000,7000,8000] , labels=['Low','Below Average','Average Wage','Above Average','High'])\n",
    "df1['WeeklyWages_Bin']"
   ]
  },
  {
   "cell_type": "code",
   "execution_count": 632,
   "id": "d0431c19",
   "metadata": {},
   "outputs": [],
   "source": [
    "df1_drop=df1.drop(columns=['WeeklyWages', 'WeeklyWages_Bin','HoursWorkedPerWeek','DaysWorkedPerWeek','Age_Bin'])"
   ]
  },
  {
   "cell_type": "code",
   "execution_count": 633,
   "id": "058fddf7",
   "metadata": {},
   "outputs": [
    {
     "data": {
      "text/html": [
       "<div>\n",
       "<style scoped>\n",
       "    .dataframe tbody tr th:only-of-type {\n",
       "        vertical-align: middle;\n",
       "    }\n",
       "\n",
       "    .dataframe tbody tr th {\n",
       "        vertical-align: top;\n",
       "    }\n",
       "\n",
       "    .dataframe thead th {\n",
       "        text-align: right;\n",
       "    }\n",
       "</style>\n",
       "<table border=\"1\" class=\"dataframe\">\n",
       "  <thead>\n",
       "    <tr style=\"text-align: right;\">\n",
       "      <th></th>\n",
       "      <th>ClaimNumber</th>\n",
       "      <th>DateTimeOfAccident</th>\n",
       "      <th>DateReported</th>\n",
       "      <th>Age</th>\n",
       "      <th>Gender</th>\n",
       "      <th>MaritalStatus</th>\n",
       "      <th>DependentChildren</th>\n",
       "      <th>DependentsOther</th>\n",
       "      <th>PartTimeFullTime</th>\n",
       "      <th>ClaimDescription</th>\n",
       "      <th>InitialIncurredCalimsCost</th>\n",
       "    </tr>\n",
       "  </thead>\n",
       "  <tbody>\n",
       "    <tr>\n",
       "      <th>0</th>\n",
       "      <td>13112</td>\n",
       "      <td>12207</td>\n",
       "      <td>4812</td>\n",
       "      <td>25</td>\n",
       "      <td>M</td>\n",
       "      <td>0</td>\n",
       "      <td>0</td>\n",
       "      <td>0</td>\n",
       "      <td>0</td>\n",
       "      <td>10312</td>\n",
       "      <td>1000</td>\n",
       "    </tr>\n",
       "    <tr>\n",
       "      <th>1</th>\n",
       "      <td>1624</td>\n",
       "      <td>1501</td>\n",
       "      <td>585</td>\n",
       "      <td>25</td>\n",
       "      <td>F</td>\n",
       "      <td>0</td>\n",
       "      <td>0</td>\n",
       "      <td>0</td>\n",
       "      <td>1</td>\n",
       "      <td>5379</td>\n",
       "      <td>3500</td>\n",
       "    </tr>\n",
       "    <tr>\n",
       "      <th>2</th>\n",
       "      <td>5598</td>\n",
       "      <td>5325</td>\n",
       "      <td>2129</td>\n",
       "      <td>11</td>\n",
       "      <td>M</td>\n",
       "      <td>1</td>\n",
       "      <td>0</td>\n",
       "      <td>0</td>\n",
       "      <td>0</td>\n",
       "      <td>4683</td>\n",
       "      <td>7500</td>\n",
       "    </tr>\n",
       "    <tr>\n",
       "      <th>3</th>\n",
       "      <td>15868</td>\n",
       "      <td>15351</td>\n",
       "      <td>6054</td>\n",
       "      <td>8</td>\n",
       "      <td>M</td>\n",
       "      <td>1</td>\n",
       "      <td>0</td>\n",
       "      <td>0</td>\n",
       "      <td>0</td>\n",
       "      <td>9709</td>\n",
       "      <td>1000</td>\n",
       "    </tr>\n",
       "    <tr>\n",
       "      <th>4</th>\n",
       "      <td>14231</td>\n",
       "      <td>13016</td>\n",
       "      <td>5120</td>\n",
       "      <td>19</td>\n",
       "      <td>M</td>\n",
       "      <td>0</td>\n",
       "      <td>3</td>\n",
       "      <td>0</td>\n",
       "      <td>0</td>\n",
       "      <td>2511</td>\n",
       "      <td>111077</td>\n",
       "    </tr>\n",
       "  </tbody>\n",
       "</table>\n",
       "</div>"
      ],
      "text/plain": [
       "   ClaimNumber  DateTimeOfAccident  DateReported  Age Gender  MaritalStatus  \\\n",
       "0        13112               12207          4812   25      M              0   \n",
       "1         1624                1501           585   25      F              0   \n",
       "2         5598                5325          2129   11      M              1   \n",
       "3        15868               15351          6054    8      M              1   \n",
       "4        14231               13016          5120   19      M              0   \n",
       "\n",
       "   DependentChildren  DependentsOther  PartTimeFullTime  ClaimDescription  \\\n",
       "0                  0                0                 0             10312   \n",
       "1                  0                0                 1              5379   \n",
       "2                  0                0                 0              4683   \n",
       "3                  0                0                 0              9709   \n",
       "4                  3                0                 0              2511   \n",
       "\n",
       "   InitialIncurredCalimsCost  \n",
       "0                       1000  \n",
       "1                       3500  \n",
       "2                       7500  \n",
       "3                       1000  \n",
       "4                     111077  "
      ]
     },
     "execution_count": 633,
     "metadata": {},
     "output_type": "execute_result"
    }
   ],
   "source": [
    "df1_drop.head(5)"
   ]
  },
  {
   "cell_type": "code",
   "execution_count": 606,
   "id": "f6588466",
   "metadata": {},
   "outputs": [
    {
     "data": {
      "text/html": [
       "<div>\n",
       "<style scoped>\n",
       "    .dataframe tbody tr th:only-of-type {\n",
       "        vertical-align: middle;\n",
       "    }\n",
       "\n",
       "    .dataframe tbody tr th {\n",
       "        vertical-align: top;\n",
       "    }\n",
       "\n",
       "    .dataframe thead th {\n",
       "        text-align: right;\n",
       "    }\n",
       "</style>\n",
       "<table border=\"1\" class=\"dataframe\">\n",
       "  <thead>\n",
       "    <tr style=\"text-align: right;\">\n",
       "      <th></th>\n",
       "      <th>ClaimNumber</th>\n",
       "      <th>DateTimeOfAccident</th>\n",
       "      <th>DateReported</th>\n",
       "      <th>Age</th>\n",
       "      <th>Gender</th>\n",
       "      <th>MaritalStatus</th>\n",
       "      <th>DependentChildren</th>\n",
       "      <th>DependentsOther</th>\n",
       "      <th>PartTimeFullTime</th>\n",
       "      <th>ClaimDescription</th>\n",
       "      <th>InitialIncurredCalimsCost</th>\n",
       "      <th>UltimateIncurredClaimCost</th>\n",
       "    </tr>\n",
       "  </thead>\n",
       "  <tbody>\n",
       "    <tr>\n",
       "      <th>1</th>\n",
       "      <td>WC8205482</td>\n",
       "      <td>2002-04-09T07:00:00Z</td>\n",
       "      <td>2002-07-05T00:00:00Z</td>\n",
       "      <td>48</td>\n",
       "      <td>M</td>\n",
       "      <td>M</td>\n",
       "      <td>0</td>\n",
       "      <td>0.0</td>\n",
       "      <td>F</td>\n",
       "      <td>LIFTING TYRE INJURY TO RIGHT ARM AND WRIST INJURY</td>\n",
       "      <td>1500</td>\n",
       "      <td>4748.203388</td>\n",
       "    </tr>\n",
       "    <tr>\n",
       "      <th>2</th>\n",
       "      <td>WC6922469</td>\n",
       "      <td>1999-01-07T11:00:00Z</td>\n",
       "      <td>1999-01-20T00:00:00Z</td>\n",
       "      <td>43</td>\n",
       "      <td>F</td>\n",
       "      <td>M</td>\n",
       "      <td>0</td>\n",
       "      <td>0.0</td>\n",
       "      <td>F</td>\n",
       "      <td>STEPPED AROUND CRATES AND TRUCK TRAY FRACTURE ...</td>\n",
       "      <td>5500</td>\n",
       "      <td>6326.285819</td>\n",
       "    </tr>\n",
       "    <tr>\n",
       "      <th>3</th>\n",
       "      <td>WC5442654</td>\n",
       "      <td>1996-03-25T00:00:00Z</td>\n",
       "      <td>1996-04-14T00:00:00Z</td>\n",
       "      <td>30</td>\n",
       "      <td>M</td>\n",
       "      <td>U</td>\n",
       "      <td>0</td>\n",
       "      <td>0.0</td>\n",
       "      <td>F</td>\n",
       "      <td>CUT ON SHARP EDGE CUT LEFT THUMB</td>\n",
       "      <td>1700</td>\n",
       "      <td>2293.949087</td>\n",
       "    </tr>\n",
       "    <tr>\n",
       "      <th>5</th>\n",
       "      <td>WC2603726</td>\n",
       "      <td>1990-08-29T08:00:00Z</td>\n",
       "      <td>1990-09-27T00:00:00Z</td>\n",
       "      <td>36</td>\n",
       "      <td>M</td>\n",
       "      <td>M</td>\n",
       "      <td>0</td>\n",
       "      <td>0.0</td>\n",
       "      <td>F</td>\n",
       "      <td>REACHING ABOVE SHOULDER LEVEL ACUTE MUSCLE STR...</td>\n",
       "      <td>2800</td>\n",
       "      <td>4014.002925</td>\n",
       "    </tr>\n",
       "    <tr>\n",
       "      <th>6</th>\n",
       "      <td>WC6842268</td>\n",
       "      <td>1999-06-21T11:00:00Z</td>\n",
       "      <td>1999-09-09T00:00:00Z</td>\n",
       "      <td>50</td>\n",
       "      <td>M</td>\n",
       "      <td>M</td>\n",
       "      <td>0</td>\n",
       "      <td>0.0</td>\n",
       "      <td>F</td>\n",
       "      <td>STRUCK HEAD ON HEAD LACERATED HEAD</td>\n",
       "      <td>500</td>\n",
       "      <td>598.762315</td>\n",
       "    </tr>\n",
       "  </tbody>\n",
       "</table>\n",
       "</div>"
      ],
      "text/plain": [
       "  ClaimNumber    DateTimeOfAccident          DateReported  Age Gender  \\\n",
       "1   WC8205482  2002-04-09T07:00:00Z  2002-07-05T00:00:00Z   48      M   \n",
       "2   WC6922469  1999-01-07T11:00:00Z  1999-01-20T00:00:00Z   43      F   \n",
       "3   WC5442654  1996-03-25T00:00:00Z  1996-04-14T00:00:00Z   30      M   \n",
       "5   WC2603726  1990-08-29T08:00:00Z  1990-09-27T00:00:00Z   36      M   \n",
       "6   WC6842268  1999-06-21T11:00:00Z  1999-09-09T00:00:00Z   50      M   \n",
       "\n",
       "  MaritalStatus  DependentChildren  DependentsOther PartTimeFullTime  \\\n",
       "1             M                  0              0.0                F   \n",
       "2             M                  0              0.0                F   \n",
       "3             U                  0              0.0                F   \n",
       "5             M                  0              0.0                F   \n",
       "6             M                  0              0.0                F   \n",
       "\n",
       "                                    ClaimDescription  \\\n",
       "1  LIFTING TYRE INJURY TO RIGHT ARM AND WRIST INJURY   \n",
       "2  STEPPED AROUND CRATES AND TRUCK TRAY FRACTURE ...   \n",
       "3                   CUT ON SHARP EDGE CUT LEFT THUMB   \n",
       "5  REACHING ABOVE SHOULDER LEVEL ACUTE MUSCLE STR...   \n",
       "6                 STRUCK HEAD ON HEAD LACERATED HEAD   \n",
       "\n",
       "   InitialIncurredCalimsCost  UltimateIncurredClaimCost  \n",
       "1                       1500                4748.203388  \n",
       "2                       5500                6326.285819  \n",
       "3                       1700                2293.949087  \n",
       "5                       2800                4014.002925  \n",
       "6                        500                 598.762315  "
      ]
     },
     "execution_count": 606,
     "metadata": {},
     "output_type": "execute_result"
    }
   ],
   "source": [
    "df_drop.head(5)"
   ]
  },
  {
   "cell_type": "code",
   "execution_count": 634,
   "id": "f1920778",
   "metadata": {},
   "outputs": [
    {
     "name": "stdout",
     "output_type": "stream",
     "text": [
      "<class 'pandas.core.frame.DataFrame'>\n",
      "RangeIndex: 17824 entries, 0 to 17823\n",
      "Data columns (total 11 columns):\n",
      " #   Column                     Non-Null Count  Dtype \n",
      "---  ------                     --------------  ----- \n",
      " 0   ClaimNumber                17824 non-null  int64 \n",
      " 1   DateTimeOfAccident         17824 non-null  int64 \n",
      " 2   DateReported               17824 non-null  int64 \n",
      " 3   Age                        17824 non-null  int64 \n",
      " 4   Gender                     17824 non-null  object\n",
      " 5   MaritalStatus              17824 non-null  int64 \n",
      " 6   DependentChildren          17824 non-null  int64 \n",
      " 7   DependentsOther            17824 non-null  int64 \n",
      " 8   PartTimeFullTime           17824 non-null  int64 \n",
      " 9   ClaimDescription           17824 non-null  int64 \n",
      " 10  InitialIncurredCalimsCost  17824 non-null  int64 \n",
      "dtypes: int64(10), object(1)\n",
      "memory usage: 1.5+ MB\n"
     ]
    }
   ],
   "source": [
    "df1_drop.info()"
   ]
  },
  {
   "cell_type": "code",
   "execution_count": 637,
   "id": "4d2a2e52",
   "metadata": {},
   "outputs": [],
   "source": [
    "label_encoder=pre.LabelEncoder()\n",
    "df1_drop['ClaimNumber']=label_encoder.fit_transform(df1_drop['ClaimNumber'])\n",
    "df1_drop['DateTimeOfAccident']=label_encoder.fit_transform(df1_drop['DateTimeOfAccident'])\n",
    "df1_drop['DateReported']=label_encoder.fit_transform(df1_drop['DateReported'])\n",
    "df1_drop['Age']=label_encoder.fit_transform(df1_drop['Age'])\n",
    "df1_drop['MaritalStatus']=label_encoder.fit_transform(df1_drop['MaritalStatus'])\n",
    "df1_drop['PartTimeFullTime']=label_encoder.fit_transform(df1_drop['PartTimeFullTime'])\n",
    "df1_drop['ClaimDescription']=label_encoder.fit_transform(df1_drop['ClaimDescription'])"
   ]
  },
  {
   "cell_type": "code",
   "execution_count": null,
   "id": "c28a0677",
   "metadata": {},
   "outputs": [],
   "source": [
    "df1_drop.dtypes"
   ]
  },
  {
   "cell_type": "code",
   "execution_count": 638,
   "id": "ac02dd97",
   "metadata": {},
   "outputs": [],
   "source": [
    "def test_pre(data):\n",
    "    import sklearn.preprocessing as pre\n",
    "    from sklearn.preprocessing import minmax_scale\n",
    "    #label_encoder=pre.LabelEncoder()\n",
    "    data=data.apply(minmax_scale)\n",
    "    #data['Age']=label_encoder.fit_transform(data['Age'])\n",
    "    #data['MaritalStatus']=label_encoder.fit_transform(data['MaritalStatus'])\n",
    "    #data['ClaimDescription']=label_encoder.fit_transform(data['ClaimDescription'])\n",
    "    return data"
   ]
  },
  {
   "cell_type": "code",
   "execution_count": null,
   "id": "aa549780",
   "metadata": {},
   "outputs": [],
   "source": [
    "test=test_pre(df1_drop)"
   ]
  },
  {
   "cell_type": "code",
   "execution_count": null,
   "id": "6c861975",
   "metadata": {},
   "outputs": [],
   "source": [
    "y_pred=dt.predict(test)"
   ]
  },
  {
   "cell_type": "code",
   "execution_count": null,
   "id": "0cfa08a1",
   "metadata": {},
   "outputs": [],
   "source": [
    "y_pred"
   ]
  },
  {
   "cell_type": "code",
   "execution_count": null,
   "id": "5ffb8df9",
   "metadata": {},
   "outputs": [],
   "source": [
    "result=y_pred"
   ]
  },
  {
   "cell_type": "code",
   "execution_count": null,
   "id": "4e0df726",
   "metadata": {},
   "outputs": [],
   "source": [
    "def submission(result):\n",
    "    submission = pd.read_csv(\"../input/machine-learning-24-hrs-hackathon/sample_submission.csv\")\n",
    "    submission = submission.drop('UltimateIncurredClaimCost',axis=1)\n",
    "    submission['UltimateIncurredClaimCost'] = result\n",
    "    #Writing the file\n",
    "    submission.to_csv(\"submit.csv\",index=False)\n",
    "    \n",
    "submission(result)"
   ]
  }
 ],
 "metadata": {
  "kernelspec": {
   "display_name": "Python 3",
   "language": "python",
   "name": "python3"
  },
  "language_info": {
   "codemirror_mode": {
    "name": "ipython",
    "version": 3
   },
   "file_extension": ".py",
   "mimetype": "text/x-python",
   "name": "python",
   "nbconvert_exporter": "python",
   "pygments_lexer": "ipython3",
   "version": "3.8.8"
  }
 },
 "nbformat": 4,
 "nbformat_minor": 5
}
